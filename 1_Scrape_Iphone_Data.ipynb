{
 "cells": [
  {
   "cell_type": "markdown",
   "metadata": {},
   "source": [
    "Note: Oct 2 Adding support for dates, the rest of the ipyn still need to be edited to allow for this. \n"
   ]
  },
  {
   "cell_type": "code",
   "execution_count": 1,
   "metadata": {},
   "outputs": [],
   "source": [
    "from  bs4 import BeautifulSoup\n",
    "import requests\n",
    "import pandas as pd\n",
    "import re\n"
   ]
  },
  {
   "cell_type": "code",
   "execution_count": 2,
   "metadata": {},
   "outputs": [],
   "source": [
    "att_iphones_url = \"https://swappa.com/mobile/att/iphones\"\n",
    "\n",
    "models = ['apple-iphone-x-a1865','apple-iphone-se', 'apple-iphone-8-plus-a1864', 'apple-iphone-8-a1863',\n",
    "          'apple-iphone-7-plus-a1661','apple-iphone-7-a1660','apple-iphone-6s-plus','apple-iphone-6s']\n",
    "\n",
    "carriers = ['att']"
   ]
  },
  {
   "cell_type": "code",
   "execution_count": 3,
   "metadata": {},
   "outputs": [],
   "source": [
    "def pull_sold_data(link):\n",
    "    url = 'https://swappa.com' + link\n",
    "    page = requests.get(url).text\n",
    "    soup = BeautifulSoup(page, features=\"html5lib\")\n",
    "    recently_sold = soup.findAll(class_='table table-bordered table-condensed table-centered')\n",
    "    date = re.sub('\\s+', '', recently_sold[0].findAll('td')[6].text)\n",
    "    return(date)"
   ]
  },
  {
   "cell_type": "code",
   "execution_count": 4,
   "metadata": {},
   "outputs": [],
   "source": [
    "def sale_details(url):\n",
    "    \n",
    "    page = requests.get(url).text\n",
    "    soup = BeautifulSoup(page, features=\"html5lib\")\n",
    "    recently_sold = soup.findAll(class_='listing_row listing_ listing_')\n",
    "    \n",
    "    phone_data = []\n",
    "    for i in range(len(recently_sold)-3):\n",
    "        condition = recently_sold[i].find(class_=\"condition_label\").text\n",
    "        color = recently_sold[i].find(class_=\"color_label\").text\n",
    "        storage = recently_sold[i].find(class_=\"storage_label\").text\n",
    "        sold_price = recently_sold[i].find(class_=\"price\").text\n",
    "        \n",
    "        link = recently_sold[i].find('a')['href']\n",
    "        date = pull_sold_data(link)\n",
    "    \n",
    "        phone_data.append([condition,color,int(storage.strip('GB')),int(sold_price.strip('$')),date])\n",
    "        \n",
    "    return(phone_data)"
   ]
  },
  {
   "cell_type": "code",
   "execution_count": 5,
   "metadata": {},
   "outputs": [
    {
     "name": "stdout",
     "output_type": "stream",
     "text": [
      "[['Mint', 'Silver', 256, 775, 'Oct09,2018-10:15PM'], ['Good', 'Gray', 64, 660, 'Oct05,2018-07:10PM']]\n"
     ]
    }
   ],
   "source": [
    "print(sale_details(\"https://swappa.com/buy/apple-iphone-x-a1865-att\"))"
   ]
  },
  {
   "cell_type": "code",
   "execution_count": 6,
   "metadata": {},
   "outputs": [
    {
     "name": "stdout",
     "output_type": "stream",
     "text": [
      "Empty DataFrame\n",
      "Columns: [Phone Model, Carrier, Condition, Color, Size, Recently Sold Price, Date]\n",
      "Index: []\n"
     ]
    }
   ],
   "source": [
    "col_names = ['Phone Model', 'Carrier', 'Condition', 'Color', 'Size', 'Recently Sold Price','Date']\n",
    "iphone_df = pd.DataFrame(columns=col_names)\n",
    "print(iphone_df)"
   ]
  },
  {
   "cell_type": "code",
   "execution_count": 7,
   "metadata": {},
   "outputs": [],
   "source": [
    "for model in models:\n",
    "    for carrier in carriers:\n",
    "        url = \"https://swappa.com/buy/\"+ model + '-' + carrier\n",
    "        data = sale_details(url)\n",
    "            \n",
    "        for sold in data:\n",
    "            iphone_df.loc[len(iphone_df)] = [model,carrier,sold[0],sold[1],sold[2],sold[3],sold[4]]\n"
   ]
  },
  {
   "cell_type": "code",
   "execution_count": 8,
   "metadata": {},
   "outputs": [
    {
     "name": "stdout",
     "output_type": "stream",
     "text": [
      "                 Phone Model Carrier Condition      Color Size  \\\n",
      "0       apple-iphone-x-a1865     att      Mint     Silver  256   \n",
      "1       apple-iphone-x-a1865     att      Good       Gray   64   \n",
      "2            apple-iphone-se     att      Good       Grey   32   \n",
      "3            apple-iphone-se     att      Good       Grey  128   \n",
      "4  apple-iphone-8-plus-a1864     att      Good       Gray   64   \n",
      "5  apple-iphone-8-plus-a1864     att      Mint       Gray  256   \n",
      "6       apple-iphone-8-a1863     att      Mint     Silver  256   \n",
      "7       apple-iphone-8-a1863     att      Mint        Red   64   \n",
      "8  apple-iphone-7-plus-a1661     att      Fair  Rose Gold  128   \n",
      "9  apple-iphone-7-plus-a1661     att      Good      Black   32   \n",
      "\n",
      "  Recently Sold Price                Date  \n",
      "0                 775  Oct09,2018-10:15PM  \n",
      "1                 660  Oct05,2018-07:10PM  \n",
      "2                 139  Oct10,2018-12:27PM  \n",
      "3                 175  Oct10,2018-08:23AM  \n",
      "4                 549  Oct09,2018-10:42AM  \n",
      "5                 695  Oct05,2018-08:22PM  \n",
      "6                 500  Oct09,2018-02:17PM  \n",
      "7                 465  Oct09,2018-12:53PM  \n",
      "8                 400  Oct10,2018-03:24PM  \n",
      "9                 410  Oct09,2018-08:07PM  \n"
     ]
    },
    {
     "data": {
      "text/plain": [
       "(16, 7)"
      ]
     },
     "execution_count": 8,
     "metadata": {},
     "output_type": "execute_result"
    }
   ],
   "source": [
    "print(iphone_df.head(10))\n",
    "iphone_df.shape"
   ]
  },
  {
   "cell_type": "code",
   "execution_count": 9,
   "metadata": {},
   "outputs": [],
   "source": [
    "file_name = \"iphone_df_Oct_10_examples.csv\"\n",
    "iphone_df.to_csv(file_name, encoding='utf-8', index=False)"
   ]
  },
  {
   "cell_type": "code",
   "execution_count": null,
   "metadata": {},
   "outputs": [],
   "source": []
  }
 ],
 "metadata": {
  "kernelspec": {
   "display_name": "Python 3",
   "language": "python",
   "name": "python3"
  },
  "language_info": {
   "codemirror_mode": {
    "name": "ipython",
    "version": 3
   },
   "file_extension": ".py",
   "mimetype": "text/x-python",
   "name": "python",
   "nbconvert_exporter": "python",
   "pygments_lexer": "ipython3",
   "version": "3.6.5"
  }
 },
 "nbformat": 4,
 "nbformat_minor": 2
}
