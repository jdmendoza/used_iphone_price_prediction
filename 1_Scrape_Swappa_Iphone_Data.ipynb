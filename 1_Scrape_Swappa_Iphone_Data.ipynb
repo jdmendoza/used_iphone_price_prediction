{
 "cells": [
  {
   "cell_type": "code",
   "execution_count": 1,
   "metadata": {},
   "outputs": [],
   "source": [
    "from  bs4 import BeautifulSoup\n",
    "import requests\n",
    "import pandas as pd"
   ]
  },
  {
   "cell_type": "code",
   "execution_count": 2,
   "metadata": {},
   "outputs": [],
   "source": [
    "att_iphones_url = \"https://swappa.com/mobile/att/iphones\"\n",
    "models = ['apple-iphone-x-a1865','apple-iphone-se', 'apple-iphone-8-plus-a1864', 'apple-iphone-8-a1863',\n",
    "          'apple-iphone-7-plus-a1661','apple-iphone-7-a1660','apple-iphone-6s-plus','apple-iphone-6s']\n",
    "carriers = ['verizon', 'att', 'tmobile','sprint',]"
   ]
  },
  {
   "cell_type": "code",
   "execution_count": 3,
   "metadata": {},
   "outputs": [],
   "source": [
    "def sale_details(url):\n",
    "    \n",
    "    page = requests.get(url).text\n",
    "    soup = BeautifulSoup(page, features=\"html5lib\")\n",
    "    recently_sold = soup.findAll(class_='listing_row listing_ listing_')\n",
    "    \n",
    "    phone_data = []\n",
    "    for i in range(len(recently_sold)):\n",
    "        condition = recently_sold[i].find(class_=\"condition_label\").text\n",
    "        color = recently_sold[i].find(class_=\"color_label\").text\n",
    "        storage = recently_sold[i].find(class_=\"storage_label\").text\n",
    "        sold_price = recently_sold[i].find(class_=\"price\").text\n",
    "        \n",
    "        phone_data.append([condition,color,int(storage.strip('GB')),int(sold_price.strip('$'))])\n",
    "        \n",
    "    return(phone_data)"
   ]
  },
  {
   "cell_type": "code",
   "execution_count": 4,
   "metadata": {},
   "outputs": [
    {
     "name": "stdout",
     "output_type": "stream",
     "text": [
      "[['Mint', 'Gray', 256, 879], ['Mint', 'Gray', 64, 695], ['Mint', 'Gray', 256, 765], ['Mint', 'Gray', 256, 850], ['Mint', 'Gray', 64, 749]]\n"
     ]
    }
   ],
   "source": [
    "print(sale_details(\"https://swappa.com/buy/apple-iphone-x-a1865-att\"))"
   ]
  },
  {
   "cell_type": "code",
   "execution_count": 5,
   "metadata": {},
   "outputs": [
    {
     "name": "stdout",
     "output_type": "stream",
     "text": [
      "Empty DataFrame\n",
      "Columns: [Phone Model, Carrier, Condition, Color, Size, Recently Sold Price]\n",
      "Index: []\n"
     ]
    }
   ],
   "source": [
    "col_names = ['Phone Model', 'Carrier', 'Condition', 'Color', 'Size', 'Recently Sold Price']\n",
    "iphone_df = pd.DataFrame(columns=col_names)\n",
    "print(iphone_df)"
   ]
  },
  {
   "cell_type": "code",
   "execution_count": 6,
   "metadata": {},
   "outputs": [],
   "source": [
    "for model in models:\n",
    "    for carrier in carriers:\n",
    "        url = \"https://swappa.com/buy/\"+ model + '-' + carrier\n",
    "        data = sale_details(url)\n",
    "            \n",
    "        for sold in data:\n",
    "            iphone_df.loc[len(iphone_df)] = [model, carrier, sold[0],sold[1],sold[2],sold[3]]\n"
   ]
  },
  {
   "cell_type": "code",
   "execution_count": 7,
   "metadata": {},
   "outputs": [
    {
     "name": "stdout",
     "output_type": "stream",
     "text": [
      "            Phone Model  Carrier Condition   Color Size Recently Sold Price\n",
      "0  apple-iphone-x-a1865  verizon      Mint    Gray  256                 759\n",
      "1  apple-iphone-x-a1865  verizon      Good  Silver  256                 670\n",
      "2  apple-iphone-x-a1865  verizon      Mint    Gray  256                 735\n",
      "3  apple-iphone-x-a1865  verizon      Fair  Silver   64                 644\n",
      "4  apple-iphone-x-a1865  verizon      Mint    Gray   64                 700\n",
      "5  apple-iphone-x-a1865      att      Mint    Gray  256                 879\n",
      "6  apple-iphone-x-a1865      att      Mint    Gray   64                 695\n",
      "7  apple-iphone-x-a1865      att      Mint    Gray  256                 765\n",
      "8  apple-iphone-x-a1865      att      Mint    Gray  256                 850\n",
      "9  apple-iphone-x-a1865      att      Mint    Gray   64                 749\n"
     ]
    }
   ],
   "source": [
    "print(iphone_df.head(10))"
   ]
  },
  {
   "cell_type": "code",
   "execution_count": 8,
   "metadata": {},
   "outputs": [],
   "source": [
    "#file_name = \"iphone_df_Oct_2.csv\"\n",
    "#iphone_df.to_csv(file_name, encoding='utf-8', index=False)"
   ]
  }
 ],
 "metadata": {
  "kernelspec": {
   "display_name": "Python 3",
   "language": "python",
   "name": "python3"
  },
  "language_info": {
   "codemirror_mode": {
    "name": "ipython",
    "version": 3
   },
   "file_extension": ".py",
   "mimetype": "text/x-python",
   "name": "python",
   "nbconvert_exporter": "python",
   "pygments_lexer": "ipython3",
   "version": "3.6.5"
  }
 },
 "nbformat": 4,
 "nbformat_minor": 2
}
