{
 "cells": [
  {
   "cell_type": "markdown",
   "metadata": {},
   "source": [
    "Note: Oct 2 Adding support for dates, the rest of the ipyn still need to be edited to allow for this. \n",
    "\n",
    "Days Scraped: Oct2 - 3:06pm"
   ]
  },
  {
   "cell_type": "code",
   "execution_count": 10,
   "metadata": {},
   "outputs": [],
   "source": [
    "from  bs4 import BeautifulSoup\n",
    "import requests\n",
    "import pandas as pd\n",
    "import re\n"
   ]
  },
  {
   "cell_type": "code",
   "execution_count": 2,
   "metadata": {},
   "outputs": [],
   "source": [
    "att_iphones_url = \"https://swappa.com/mobile/att/iphones\"\n",
    "models = ['apple-iphone-x-a1865','apple-iphone-se', 'apple-iphone-8-plus-a1864', 'apple-iphone-8-a1863',\n",
    "          'apple-iphone-7-plus-a1661','apple-iphone-7-a1660','apple-iphone-6s-plus','apple-iphone-6s']\n",
    "carriers = ['verizon', 'att', 'tmobile','sprint',]"
   ]
  },
  {
   "cell_type": "code",
   "execution_count": 3,
   "metadata": {},
   "outputs": [],
   "source": [
    "def pull_sold_data(link):\n",
    "    url = 'https://swappa.com' + link\n",
    "    page = requests.get(url).text\n",
    "    soup = BeautifulSoup(page, features=\"html5lib\")\n",
    "    recently_sold = soup.findAll(class_='table table-bordered table-condensed table-centered')\n",
    "    date = re.sub('\\s+', '', recently_sold[0].findAll('td')[6].text)\n",
    "    return(date)"
   ]
  },
  {
   "cell_type": "code",
   "execution_count": 4,
   "metadata": {},
   "outputs": [],
   "source": [
    "def sale_details(url):\n",
    "    \n",
    "    page = requests.get(url).text\n",
    "    soup = BeautifulSoup(page, features=\"html5lib\")\n",
    "    recently_sold = soup.findAll(class_='listing_row listing_ listing_')\n",
    "    \n",
    "    phone_data = []\n",
    "    for i in range(len(recently_sold)):\n",
    "        condition = recently_sold[i].find(class_=\"condition_label\").text\n",
    "        color = recently_sold[i].find(class_=\"color_label\").text\n",
    "        storage = recently_sold[i].find(class_=\"storage_label\").text\n",
    "        sold_price = recently_sold[i].find(class_=\"price\").text\n",
    "        \n",
    "        link = recently_sold[i].find('a')['href']\n",
    "        date = pull_sold_data(link)\n",
    "    \n",
    "        phone_data.append([condition,color,int(storage.strip('GB')),int(sold_price.strip('$')),date])\n",
    "        \n",
    "    return(phone_data)"
   ]
  },
  {
   "cell_type": "code",
   "execution_count": 5,
   "metadata": {},
   "outputs": [
    {
     "name": "stdout",
     "output_type": "stream",
     "text": [
      "[['Mint', 'Gray', 256, 879, 'Oct02,2018-03:19PM'], ['Mint', 'Gray', 64, 695, 'Oct01,2018-10:48AM'], ['Mint', 'Gray', 256, 765, 'Oct01,2018-01:01AM'], ['Mint', 'Gray', 256, 850, 'Sep29,2018-02:32PM'], ['Mint', 'Gray', 64, 749, 'Sep29,2018-12:03PM']]\n"
     ]
    }
   ],
   "source": [
    "print(sale_details(\"https://swappa.com/buy/apple-iphone-x-a1865-att\"))"
   ]
  },
  {
   "cell_type": "code",
   "execution_count": 6,
   "metadata": {},
   "outputs": [
    {
     "name": "stdout",
     "output_type": "stream",
     "text": [
      "Empty DataFrame\n",
      "Columns: [Phone Model, Carrier, Condition, Color, Size, Recently Sold Price, Date]\n",
      "Index: []\n"
     ]
    }
   ],
   "source": [
    "col_names = ['Phone Model', 'Carrier', 'Condition', 'Color', 'Size', 'Recently Sold Price','Date']\n",
    "iphone_df = pd.DataFrame(columns=col_names)\n",
    "print(iphone_df)"
   ]
  },
  {
   "cell_type": "code",
   "execution_count": 7,
   "metadata": {},
   "outputs": [],
   "source": [
    "for model in models:\n",
    "    for carrier in carriers:\n",
    "        url = \"https://swappa.com/buy/\"+ model + '-' + carrier\n",
    "        data = sale_details(url)\n",
    "            \n",
    "        for sold in data:\n",
    "            iphone_df.loc[len(iphone_df)] = [model, carrier, sold[0],sold[1],sold[2],sold[3] ,sold[4]]\n"
   ]
  },
  {
   "cell_type": "code",
   "execution_count": 8,
   "metadata": {},
   "outputs": [
    {
     "name": "stdout",
     "output_type": "stream",
     "text": [
      "            Phone Model  Carrier Condition   Color Size Recently Sold Price  \\\n",
      "0  apple-iphone-x-a1865  verizon      Good    Gray  256                 650   \n",
      "1  apple-iphone-x-a1865  verizon      Mint    Gray  256                 759   \n",
      "2  apple-iphone-x-a1865  verizon      Good  Silver  256                 670   \n",
      "3  apple-iphone-x-a1865  verizon      Mint    Gray  256                 735   \n",
      "4  apple-iphone-x-a1865  verizon      Fair  Silver   64                 644   \n",
      "5  apple-iphone-x-a1865      att      Mint    Gray  256                 879   \n",
      "6  apple-iphone-x-a1865      att      Mint    Gray   64                 695   \n",
      "7  apple-iphone-x-a1865      att      Mint    Gray  256                 765   \n",
      "8  apple-iphone-x-a1865      att      Mint    Gray  256                 850   \n",
      "9  apple-iphone-x-a1865      att      Mint    Gray   64                 749   \n",
      "\n",
      "                 Date  \n",
      "0  Oct02,2018-04:18PM  \n",
      "1  Oct02,2018-03:57PM  \n",
      "2  Oct02,2018-01:20PM  \n",
      "3  Oct02,2018-12:12PM  \n",
      "4  Oct02,2018-11:53AM  \n",
      "5  Oct02,2018-03:19PM  \n",
      "6  Oct01,2018-10:48AM  \n",
      "7  Oct01,2018-01:01AM  \n",
      "8  Sep29,2018-02:32PM  \n",
      "9  Sep29,2018-12:03PM  \n"
     ]
    }
   ],
   "source": [
    "print(iphone_df.head(10))"
   ]
  },
  {
   "cell_type": "code",
   "execution_count": 9,
   "metadata": {},
   "outputs": [],
   "source": [
    "file_name = \"iphone_df_Oct_2_w_dates.csv\"\n",
    "iphone_df.to_csv(file_name, encoding='utf-8', index=False)"
   ]
  }
 ],
 "metadata": {
  "kernelspec": {
   "display_name": "Python 3",
   "language": "python",
   "name": "python3"
  },
  "language_info": {
   "codemirror_mode": {
    "name": "ipython",
    "version": 3
   },
   "file_extension": ".py",
   "mimetype": "text/x-python",
   "name": "python",
   "nbconvert_exporter": "python",
   "pygments_lexer": "ipython3",
   "version": "3.6.5"
  }
 },
 "nbformat": 4,
 "nbformat_minor": 2
}
