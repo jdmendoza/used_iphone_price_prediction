{
 "cells": [
  {
   "cell_type": "code",
   "execution_count": 1,
   "metadata": {},
   "outputs": [
    {
     "data": {
      "text/html": [
       "<script>requirejs.config({paths: { 'plotly': ['https://cdn.plot.ly/plotly-latest.min']},});if(!window.Plotly) {{require(['plotly'],function(plotly) {window.Plotly=plotly;});}}</script>"
      ],
      "text/vnd.plotly.v1+html": [
       "<script>requirejs.config({paths: { 'plotly': ['https://cdn.plot.ly/plotly-latest.min']},});if(!window.Plotly) {{require(['plotly'],function(plotly) {window.Plotly=plotly;});}}</script>"
      ]
     },
     "metadata": {},
     "output_type": "display_data"
    }
   ],
   "source": [
    "#Convert Grey -> Gray\n",
    "import pandas as pd\n",
    "import numpy as np\n",
    "import pickle\n",
    "\n",
    "from plotly import __version__\n",
    "from plotly.offline import download_plotlyjs, init_notebook_mode, plot, iplot\n",
    "import plotly.graph_objs as go\n",
    "\n",
    "from sklearn.preprocessing import MultiLabelBinarizer\n",
    "\n",
    "\n",
    "init_notebook_mode(connected=True)"
   ]
  },
  {
   "cell_type": "code",
   "execution_count": 2,
   "metadata": {},
   "outputs": [],
   "source": [
    "file_name = \"iphone_df.csv\"\n",
    "iphone_df = pd.read_csv(file_name)"
   ]
  },
  {
   "cell_type": "code",
   "execution_count": 3,
   "metadata": {},
   "outputs": [],
   "source": [
    "def generate_traces(dataframe,col):\n",
    "    unique_elem = dataframe[col].unique()\n",
    "    traces = []\n",
    "    for uni in unique_elem:\n",
    "        traces.append(list(iphone_df[iphone_df[col] == uni]['Recently Sold Price']))\n",
    "    return traces, unique_elem"
   ]
  },
  {
   "cell_type": "code",
   "execution_count": 4,
   "metadata": {},
   "outputs": [
    {
     "data": {
      "text/plain": [
       "Index(['Phone Model', 'Carrier', 'Condition', 'Color', 'Size',\n",
       "       'Recently Sold Price'],\n",
       "      dtype='object')"
      ]
     },
     "execution_count": 4,
     "metadata": {},
     "output_type": "execute_result"
    }
   ],
   "source": [
    "iphone_df.columns"
   ]
  },
  {
   "cell_type": "code",
   "execution_count": 5,
   "metadata": {},
   "outputs": [
    {
     "data": {
      "text/plain": [
       "[20, 20, 20, 20, 19, 15, 5, 5]"
      ]
     },
     "execution_count": 5,
     "metadata": {},
     "output_type": "execute_result"
    }
   ],
   "source": [
    "models = iphone_df['Phone Model'].value_counts()\n",
    "list(models)"
   ]
  },
  {
   "cell_type": "code",
   "execution_count": 6,
   "metadata": {},
   "outputs": [
    {
     "data": {
      "application/vnd.plotly.v1+json": {
       "data": [
        {
         "type": "bar",
         "uid": "17cd90e8-c6cd-11e8-a454-6a000073fc60",
         "x": [
          "apple-iphone-6s",
          "apple-iphone-se",
          "apple-iphone-x-a1865",
          "apple-iphone-6s-plus",
          "apple-iphone-8-a1863",
          "apple-iphone-8-plus-a1864",
          "apple-iphone-7-plus-a1661",
          "apple-iphone-7-a1660"
         ],
         "y": [
          20,
          20,
          20,
          20,
          19,
          15,
          5,
          5
         ]
        }
       ],
       "layout": {
        "font": {
         "size": 16
        },
        "title": "Phone Model Distribution"
       }
      },
      "text/html": [
       "<div id=\"ccee150b-ab40-45da-b083-66b33bc02772\" style=\"height: 525px; width: 100%;\" class=\"plotly-graph-div\"></div><script type=\"text/javascript\">require([\"plotly\"], function(Plotly) { window.PLOTLYENV=window.PLOTLYENV || {};window.PLOTLYENV.BASE_URL=\"https://plot.ly\";Plotly.newPlot(\"ccee150b-ab40-45da-b083-66b33bc02772\", [{\"x\": [\"apple-iphone-6s\", \"apple-iphone-se\", \"apple-iphone-x-a1865\", \"apple-iphone-6s-plus\", \"apple-iphone-8-a1863\", \"apple-iphone-8-plus-a1864\", \"apple-iphone-7-plus-a1661\", \"apple-iphone-7-a1660\"], \"y\": [20, 20, 20, 20, 19, 15, 5, 5], \"type\": \"bar\", \"uid\": \"18f51e00-c6cd-11e8-9ad4-6a000073fc60\"}], {\"font\": {\"size\": 16}, \"title\": \"Phone Model Distribution\"}, {\"showLink\": true, \"linkText\": \"Export to plot.ly\"})});</script>"
      ],
      "text/vnd.plotly.v1+html": [
       "<div id=\"ccee150b-ab40-45da-b083-66b33bc02772\" style=\"height: 525px; width: 100%;\" class=\"plotly-graph-div\"></div><script type=\"text/javascript\">require([\"plotly\"], function(Plotly) { window.PLOTLYENV=window.PLOTLYENV || {};window.PLOTLYENV.BASE_URL=\"https://plot.ly\";Plotly.newPlot(\"ccee150b-ab40-45da-b083-66b33bc02772\", [{\"x\": [\"apple-iphone-6s\", \"apple-iphone-se\", \"apple-iphone-x-a1865\", \"apple-iphone-6s-plus\", \"apple-iphone-8-a1863\", \"apple-iphone-8-plus-a1864\", \"apple-iphone-7-plus-a1661\", \"apple-iphone-7-a1660\"], \"y\": [20, 20, 20, 20, 19, 15, 5, 5], \"type\": \"bar\", \"uid\": \"18f51e00-c6cd-11e8-9ad4-6a000073fc60\"}], {\"font\": {\"size\": 16}, \"title\": \"Phone Model Distribution\"}, {\"showLink\": true, \"linkText\": \"Export to plot.ly\"})});</script>"
      ]
     },
     "metadata": {},
     "output_type": "display_data"
    }
   ],
   "source": [
    "data_models = [go.Bar(\n",
    "            x=list(models.index),\n",
    "            y=list(models)\n",
    "    )]\n",
    "\n",
    "iplot({'data':data_models, 'layout':{'title': 'Phone Model Distribution',\n",
    "                          'font': dict(size=16)}}, filename='basic-bar')"
   ]
  },
  {
   "cell_type": "code",
   "execution_count": 7,
   "metadata": {},
   "outputs": [
    {
     "data": {
      "application/vnd.plotly.v1+json": {
       "data": [
        {
         "name": "apple-iphone-x-a1865",
         "type": "box",
         "uid": "193cd5f6-c6cd-11e8-8519-6a000073fc60",
         "y": [
          690,
          675,
          660,
          690,
          735,
          695,
          765,
          850,
          749,
          750,
          764,
          750,
          750,
          700,
          660,
          679,
          715,
          680,
          670,
          700
         ]
        },
        {
         "name": "apple-iphone-se",
         "type": "box",
         "uid": "193cd7ae-c6cd-11e8-8267-6a000073fc60",
         "y": [
          140,
          210,
          259,
          210,
          210,
          115,
          185,
          189,
          185,
          149,
          150,
          119,
          160,
          120,
          145,
          104,
          150,
          155,
          165,
          104
         ]
        },
        {
         "name": "apple-iphone-8-plus-a1864",
         "type": "box",
         "uid": "193cd876-c6cd-11e8-b5a9-6a000073fc60",
         "y": [
          640,
          570,
          535,
          545,
          530,
          630,
          600,
          560,
          775,
          620,
          585,
          530,
          640,
          550,
          505
         ]
        },
        {
         "name": "apple-iphone-8-a1863",
         "type": "box",
         "uid": "193cd91e-c6cd-11e8-936c-6a000073fc60",
         "y": [
          490,
          500,
          465,
          515,
          540,
          465,
          465,
          540,
          515,
          500,
          472,
          539,
          450,
          479,
          570,
          580,
          580,
          490,
          485
         ]
        },
        {
         "name": "apple-iphone-7-plus-a1661",
         "type": "box",
         "uid": "193cd9c0-c6cd-11e8-9a94-6a000073fc60",
         "y": [
          330,
          465,
          399,
          384,
          395
         ]
        },
        {
         "name": "apple-iphone-7-a1660",
         "type": "box",
         "uid": "193cda58-c6cd-11e8-8796-6a000073fc60",
         "y": [
          295,
          275,
          252,
          310,
          285
         ]
        },
        {
         "name": "apple-iphone-6s-plus",
         "type": "box",
         "uid": "193cdaf6-c6cd-11e8-b868-6a000073fc60",
         "y": [
          170,
          220,
          270,
          230,
          310,
          265,
          260,
          250,
          300,
          265,
          240,
          299,
          230,
          230,
          218,
          255,
          235,
          249,
          399,
          250
         ]
        },
        {
         "name": "apple-iphone-6s",
         "type": "box",
         "uid": "193cdb8c-c6cd-11e8-9f9d-6a000073fc60",
         "y": [
          190,
          210,
          210,
          205,
          185,
          235,
          223,
          249,
          155,
          184,
          175,
          220,
          255,
          175,
          190,
          125,
          198,
          220,
          175,
          189
         ]
        }
       ],
       "layout": {
        "font": {
         "size": 16
        },
        "title": "Memory Size Box Plots"
       }
      },
      "text/html": [
       "<div id=\"08fbd4bd-8b41-452d-8c3e-3264b6ba38e9\" style=\"height: 525px; width: 100%;\" class=\"plotly-graph-div\"></div><script type=\"text/javascript\">require([\"plotly\"], function(Plotly) { window.PLOTLYENV=window.PLOTLYENV || {};window.PLOTLYENV.BASE_URL=\"https://plot.ly\";Plotly.newPlot(\"08fbd4bd-8b41-452d-8c3e-3264b6ba38e9\", [{\"name\": \"apple-iphone-x-a1865\", \"y\": [690, 675, 660, 690, 735, 695, 765, 850, 749, 750, 764, 750, 750, 700, 660, 679, 715, 680, 670, 700], \"type\": \"box\", \"uid\": \"1941d506-c6cd-11e8-8041-6a000073fc60\"}, {\"name\": \"apple-iphone-se\", \"y\": [140, 210, 259, 210, 210, 115, 185, 189, 185, 149, 150, 119, 160, 120, 145, 104, 150, 155, 165, 104], \"type\": \"box\", \"uid\": \"1941d68c-c6cd-11e8-9c32-6a000073fc60\"}, {\"name\": \"apple-iphone-8-plus-a1864\", \"y\": [640, 570, 535, 545, 530, 630, 600, 560, 775, 620, 585, 530, 640, 550, 505], \"type\": \"box\", \"uid\": \"1941d754-c6cd-11e8-8263-6a000073fc60\"}, {\"name\": \"apple-iphone-8-a1863\", \"y\": [490, 500, 465, 515, 540, 465, 465, 540, 515, 500, 472, 539, 450, 479, 570, 580, 580, 490, 485], \"type\": \"box\", \"uid\": \"1941d7f4-c6cd-11e8-a2bd-6a000073fc60\"}, {\"name\": \"apple-iphone-7-plus-a1661\", \"y\": [330, 465, 399, 384, 395], \"type\": \"box\", \"uid\": \"1941d89e-c6cd-11e8-8e21-6a000073fc60\"}, {\"name\": \"apple-iphone-7-a1660\", \"y\": [295, 275, 252, 310, 285], \"type\": \"box\", \"uid\": \"1941d934-c6cd-11e8-9651-6a000073fc60\"}, {\"name\": \"apple-iphone-6s-plus\", \"y\": [170, 220, 270, 230, 310, 265, 260, 250, 300, 265, 240, 299, 230, 230, 218, 255, 235, 249, 399, 250], \"type\": \"box\", \"uid\": \"1941d9ca-c6cd-11e8-bf0f-6a000073fc60\"}, {\"name\": \"apple-iphone-6s\", \"y\": [190, 210, 210, 205, 185, 235, 223, 249, 155, 184, 175, 220, 255, 175, 190, 125, 198, 220, 175, 189], \"type\": \"box\", \"uid\": \"1941da62-c6cd-11e8-b8aa-6a000073fc60\"}], {\"font\": {\"size\": 16}, \"title\": \"Memory Size Box Plots\"}, {\"showLink\": true, \"linkText\": \"Export to plot.ly\"})});</script>"
      ],
      "text/vnd.plotly.v1+html": [
       "<div id=\"08fbd4bd-8b41-452d-8c3e-3264b6ba38e9\" style=\"height: 525px; width: 100%;\" class=\"plotly-graph-div\"></div><script type=\"text/javascript\">require([\"plotly\"], function(Plotly) { window.PLOTLYENV=window.PLOTLYENV || {};window.PLOTLYENV.BASE_URL=\"https://plot.ly\";Plotly.newPlot(\"08fbd4bd-8b41-452d-8c3e-3264b6ba38e9\", [{\"name\": \"apple-iphone-x-a1865\", \"y\": [690, 675, 660, 690, 735, 695, 765, 850, 749, 750, 764, 750, 750, 700, 660, 679, 715, 680, 670, 700], \"type\": \"box\", \"uid\": \"1941d506-c6cd-11e8-8041-6a000073fc60\"}, {\"name\": \"apple-iphone-se\", \"y\": [140, 210, 259, 210, 210, 115, 185, 189, 185, 149, 150, 119, 160, 120, 145, 104, 150, 155, 165, 104], \"type\": \"box\", \"uid\": \"1941d68c-c6cd-11e8-9c32-6a000073fc60\"}, {\"name\": \"apple-iphone-8-plus-a1864\", \"y\": [640, 570, 535, 545, 530, 630, 600, 560, 775, 620, 585, 530, 640, 550, 505], \"type\": \"box\", \"uid\": \"1941d754-c6cd-11e8-8263-6a000073fc60\"}, {\"name\": \"apple-iphone-8-a1863\", \"y\": [490, 500, 465, 515, 540, 465, 465, 540, 515, 500, 472, 539, 450, 479, 570, 580, 580, 490, 485], \"type\": \"box\", \"uid\": \"1941d7f4-c6cd-11e8-a2bd-6a000073fc60\"}, {\"name\": \"apple-iphone-7-plus-a1661\", \"y\": [330, 465, 399, 384, 395], \"type\": \"box\", \"uid\": \"1941d89e-c6cd-11e8-8e21-6a000073fc60\"}, {\"name\": \"apple-iphone-7-a1660\", \"y\": [295, 275, 252, 310, 285], \"type\": \"box\", \"uid\": \"1941d934-c6cd-11e8-9651-6a000073fc60\"}, {\"name\": \"apple-iphone-6s-plus\", \"y\": [170, 220, 270, 230, 310, 265, 260, 250, 300, 265, 240, 299, 230, 230, 218, 255, 235, 249, 399, 250], \"type\": \"box\", \"uid\": \"1941d9ca-c6cd-11e8-bf0f-6a000073fc60\"}, {\"name\": \"apple-iphone-6s\", \"y\": [190, 210, 210, 205, 185, 235, 223, 249, 155, 184, 175, 220, 255, 175, 190, 125, 198, 220, 175, 189], \"type\": \"box\", \"uid\": \"1941da62-c6cd-11e8-b8aa-6a000073fc60\"}], {\"font\": {\"size\": 16}, \"title\": \"Memory Size Box Plots\"}, {\"showLink\": true, \"linkText\": \"Export to plot.ly\"})});</script>"
      ]
     },
     "metadata": {},
     "output_type": "display_data"
    }
   ],
   "source": [
    "data_box_model = []\n",
    "traces_models, unique_models = generate_traces(iphone_df,'Phone Model')\n",
    "i = 0\n",
    "for trace in traces_models:\n",
    "    data_box_model.append(go.Box( y= trace,name=unique_models[i]))\n",
    "    i+=1\n",
    "iplot({'data':data_box_model, 'layout':{'title': 'Memory Size Box Plots',\n",
    "                          'font': dict(size=16)}}, filename='basic-bar')"
   ]
  },
  {
   "cell_type": "code",
   "execution_count": 8,
   "metadata": {},
   "outputs": [
    {
     "data": {
      "text/plain": [
       "[33, 27, 21, 17, 16, 8, 2]"
      ]
     },
     "execution_count": 8,
     "metadata": {},
     "output_type": "execute_result"
    }
   ],
   "source": [
    "colors = iphone_df['Color'].value_counts()\n",
    "list(colors)"
   ]
  },
  {
   "cell_type": "code",
   "execution_count": 9,
   "metadata": {},
   "outputs": [
    {
     "data": {
      "application/vnd.plotly.v1+json": {
       "data": [
        {
         "type": "bar",
         "uid": "1947dea6-c6cd-11e8-9736-6a000073fc60",
         "x": [
          "Gray",
          "Grey",
          "Silver",
          "Gold",
          "Rose Gold",
          "Black",
          "Red"
         ],
         "y": [
          33,
          27,
          21,
          17,
          16,
          8,
          2
         ]
        }
       ],
       "layout": {
        "font": {
         "size": 16
        },
        "title": "Color Distribution"
       }
      },
      "text/html": [
       "<div id=\"df424293-3899-44da-bc58-d1ab667738f4\" style=\"height: 525px; width: 100%;\" class=\"plotly-graph-div\"></div><script type=\"text/javascript\">require([\"plotly\"], function(Plotly) { window.PLOTLYENV=window.PLOTLYENV || {};window.PLOTLYENV.BASE_URL=\"https://plot.ly\";Plotly.newPlot(\"df424293-3899-44da-bc58-d1ab667738f4\", [{\"x\": [\"Gray\", \"Grey\", \"Silver\", \"Gold\", \"Rose Gold\", \"Black\", \"Red\"], \"y\": [33, 27, 21, 17, 16, 8, 2], \"type\": \"bar\", \"uid\": \"194b6f4c-c6cd-11e8-9f2d-6a000073fc60\"}], {\"font\": {\"size\": 16}, \"title\": \"Color Distribution\"}, {\"showLink\": true, \"linkText\": \"Export to plot.ly\"})});</script>"
      ],
      "text/vnd.plotly.v1+html": [
       "<div id=\"df424293-3899-44da-bc58-d1ab667738f4\" style=\"height: 525px; width: 100%;\" class=\"plotly-graph-div\"></div><script type=\"text/javascript\">require([\"plotly\"], function(Plotly) { window.PLOTLYENV=window.PLOTLYENV || {};window.PLOTLYENV.BASE_URL=\"https://plot.ly\";Plotly.newPlot(\"df424293-3899-44da-bc58-d1ab667738f4\", [{\"x\": [\"Gray\", \"Grey\", \"Silver\", \"Gold\", \"Rose Gold\", \"Black\", \"Red\"], \"y\": [33, 27, 21, 17, 16, 8, 2], \"type\": \"bar\", \"uid\": \"194b6f4c-c6cd-11e8-9f2d-6a000073fc60\"}], {\"font\": {\"size\": 16}, \"title\": \"Color Distribution\"}, {\"showLink\": true, \"linkText\": \"Export to plot.ly\"})});</script>"
      ]
     },
     "metadata": {},
     "output_type": "display_data"
    }
   ],
   "source": [
    "data_color = [go.Bar(\n",
    "            x=list(colors.index),\n",
    "            y=list(colors)\n",
    "    )]\n",
    "\n",
    "iplot({'data':data_color, 'layout':{'title': 'Color Distribution',\n",
    "                          'font': dict(size=16)}}, filename='basic-bar')"
   ]
  },
  {
   "cell_type": "code",
   "execution_count": 10,
   "metadata": {},
   "outputs": [],
   "source": [
    "colors = iphone_df['Color'].unique()"
   ]
  },
  {
   "cell_type": "markdown",
   "metadata": {},
   "source": [
    "Are greys different? Do I clump wuth silver"
   ]
  },
  {
   "cell_type": "code",
   "execution_count": 11,
   "metadata": {},
   "outputs": [
    {
     "data": {
      "application/vnd.plotly.v1+json": {
       "data": [
        {
         "name": "Gray",
         "type": "box",
         "uid": "19546c02-c6cd-11e8-9605-6a000073fc60",
         "y": [
          690,
          675,
          660,
          735,
          695,
          765,
          850,
          749,
          750,
          764,
          750,
          700,
          660,
          715,
          680,
          700,
          640,
          570,
          535,
          630,
          560,
          775,
          550,
          505,
          490,
          500,
          465,
          465,
          465,
          540,
          539,
          450,
          479
         ]
        },
        {
         "name": "Silver",
         "type": "box",
         "uid": "19546d9c-c6cd-11e8-a55d-6a000073fc60",
         "y": [
          690,
          750,
          679,
          670,
          140,
          210,
          259,
          115,
          545,
          515,
          580,
          490,
          485,
          310,
          260,
          230,
          210,
          223,
          155,
          198,
          189
         ]
        },
        {
         "name": "Rose Gold",
         "type": "box",
         "uid": "19546e78-c6cd-11e8-8a50-6a000073fc60",
         "y": [
          210,
          210,
          150,
          119,
          150,
          275,
          310,
          230,
          300,
          240,
          235,
          249,
          250,
          249,
          184,
          255
         ]
        },
        {
         "name": "Grey",
         "type": "box",
         "uid": "19546f2c-c6cd-11e8-8eeb-6a000073fc60",
         "y": [
          185,
          189,
          185,
          149,
          120,
          145,
          104,
          155,
          165,
          104,
          170,
          220,
          265,
          299,
          230,
          218,
          399,
          210,
          205,
          185,
          235,
          175,
          175,
          190,
          125,
          220,
          175
         ]
        },
        {
         "name": "Gold",
         "type": "box",
         "uid": "19546fe2-c6cd-11e8-b11c-6a000073fc60",
         "y": [
          160,
          530,
          600,
          620,
          530,
          515,
          540,
          500,
          472,
          570,
          580,
          270,
          265,
          250,
          255,
          190,
          220
         ]
        },
        {
         "name": "Red",
         "type": "box",
         "uid": "19547080-c6cd-11e8-bf66-6a000073fc60",
         "y": [
          585,
          640
         ]
        },
        {
         "name": "Black",
         "type": "box",
         "uid": "1954711e-c6cd-11e8-b63a-6a000073fc60",
         "y": [
          330,
          465,
          399,
          384,
          395,
          295,
          252,
          285
         ]
        }
       ],
       "layout": {
        "font": {
         "size": 16
        },
        "title": "Color Box Plots"
       }
      },
      "text/html": [
       "<div id=\"b8eafda9-a0f3-48fe-9751-8dfef378da38\" style=\"height: 525px; width: 100%;\" class=\"plotly-graph-div\"></div><script type=\"text/javascript\">require([\"plotly\"], function(Plotly) { window.PLOTLYENV=window.PLOTLYENV || {};window.PLOTLYENV.BASE_URL=\"https://plot.ly\";Plotly.newPlot(\"b8eafda9-a0f3-48fe-9751-8dfef378da38\", [{\"name\": \"Gray\", \"y\": [690, 675, 660, 735, 695, 765, 850, 749, 750, 764, 750, 700, 660, 715, 680, 700, 640, 570, 535, 630, 560, 775, 550, 505, 490, 500, 465, 465, 465, 540, 539, 450, 479], \"type\": \"box\", \"uid\": \"19618734-c6cd-11e8-ba77-6a000073fc60\"}, {\"name\": \"Silver\", \"y\": [690, 750, 679, 670, 140, 210, 259, 115, 545, 515, 580, 490, 485, 310, 260, 230, 210, 223, 155, 198, 189], \"type\": \"box\", \"uid\": \"196188cc-c6cd-11e8-8d3d-6a000073fc60\"}, {\"name\": \"Rose Gold\", \"y\": [210, 210, 150, 119, 150, 275, 310, 230, 300, 240, 235, 249, 250, 249, 184, 255], \"type\": \"box\", \"uid\": \"19618998-c6cd-11e8-a0ec-6a000073fc60\"}, {\"name\": \"Grey\", \"y\": [185, 189, 185, 149, 120, 145, 104, 155, 165, 104, 170, 220, 265, 299, 230, 218, 399, 210, 205, 185, 235, 175, 175, 190, 125, 220, 175], \"type\": \"box\", \"uid\": \"19618a4a-c6cd-11e8-b452-6a000073fc60\"}, {\"name\": \"Gold\", \"y\": [160, 530, 600, 620, 530, 515, 540, 500, 472, 570, 580, 270, 265, 250, 255, 190, 220], \"type\": \"box\", \"uid\": \"19618af4-c6cd-11e8-8857-6a000073fc60\"}, {\"name\": \"Red\", \"y\": [585, 640], \"type\": \"box\", \"uid\": \"19618b9e-c6cd-11e8-9be6-6a000073fc60\"}, {\"name\": \"Black\", \"y\": [330, 465, 399, 384, 395, 295, 252, 285], \"type\": \"box\", \"uid\": \"19618c34-c6cd-11e8-9d35-6a000073fc60\"}], {\"font\": {\"size\": 16}, \"title\": \"Color Box Plots\"}, {\"showLink\": true, \"linkText\": \"Export to plot.ly\"})});</script>"
      ],
      "text/vnd.plotly.v1+html": [
       "<div id=\"b8eafda9-a0f3-48fe-9751-8dfef378da38\" style=\"height: 525px; width: 100%;\" class=\"plotly-graph-div\"></div><script type=\"text/javascript\">require([\"plotly\"], function(Plotly) { window.PLOTLYENV=window.PLOTLYENV || {};window.PLOTLYENV.BASE_URL=\"https://plot.ly\";Plotly.newPlot(\"b8eafda9-a0f3-48fe-9751-8dfef378da38\", [{\"name\": \"Gray\", \"y\": [690, 675, 660, 735, 695, 765, 850, 749, 750, 764, 750, 700, 660, 715, 680, 700, 640, 570, 535, 630, 560, 775, 550, 505, 490, 500, 465, 465, 465, 540, 539, 450, 479], \"type\": \"box\", \"uid\": \"19618734-c6cd-11e8-ba77-6a000073fc60\"}, {\"name\": \"Silver\", \"y\": [690, 750, 679, 670, 140, 210, 259, 115, 545, 515, 580, 490, 485, 310, 260, 230, 210, 223, 155, 198, 189], \"type\": \"box\", \"uid\": \"196188cc-c6cd-11e8-8d3d-6a000073fc60\"}, {\"name\": \"Rose Gold\", \"y\": [210, 210, 150, 119, 150, 275, 310, 230, 300, 240, 235, 249, 250, 249, 184, 255], \"type\": \"box\", \"uid\": \"19618998-c6cd-11e8-a0ec-6a000073fc60\"}, {\"name\": \"Grey\", \"y\": [185, 189, 185, 149, 120, 145, 104, 155, 165, 104, 170, 220, 265, 299, 230, 218, 399, 210, 205, 185, 235, 175, 175, 190, 125, 220, 175], \"type\": \"box\", \"uid\": \"19618a4a-c6cd-11e8-b452-6a000073fc60\"}, {\"name\": \"Gold\", \"y\": [160, 530, 600, 620, 530, 515, 540, 500, 472, 570, 580, 270, 265, 250, 255, 190, 220], \"type\": \"box\", \"uid\": \"19618af4-c6cd-11e8-8857-6a000073fc60\"}, {\"name\": \"Red\", \"y\": [585, 640], \"type\": \"box\", \"uid\": \"19618b9e-c6cd-11e8-9be6-6a000073fc60\"}, {\"name\": \"Black\", \"y\": [330, 465, 399, 384, 395, 295, 252, 285], \"type\": \"box\", \"uid\": \"19618c34-c6cd-11e8-9d35-6a000073fc60\"}], {\"font\": {\"size\": 16}, \"title\": \"Color Box Plots\"}, {\"showLink\": true, \"linkText\": \"Export to plot.ly\"})});</script>"
      ]
     },
     "metadata": {},
     "output_type": "display_data"
    }
   ],
   "source": [
    "data_box_color = []\n",
    "traces_colors, unique_colors = generate_traces(iphone_df,'Color')\n",
    "i = 0\n",
    "for trace in traces_colors:\n",
    "    data_box_color.append(go.Box( y= trace,name=unique_colors[i]))\n",
    "    i+=1\n",
    "iplot({'data':data_box_color, 'layout':{'title': 'Color Box Plots',\n",
    "                          'font': dict(size=16)}}, filename='basic-bar')"
   ]
  },
  {
   "cell_type": "code",
   "execution_count": 12,
   "metadata": {},
   "outputs": [
    {
     "name": "stdout",
     "output_type": "stream",
     "text": [
      "['64GB', '16GB', '256GB', '128GB', '32GB']\n"
     ]
    }
   ],
   "source": [
    "size = iphone_df['Size'].value_counts()\n",
    "size_str = [str(i)+'GB' for i in size.index]\n",
    "print(size_str)"
   ]
  },
  {
   "cell_type": "code",
   "execution_count": 13,
   "metadata": {},
   "outputs": [
    {
     "data": {
      "application/vnd.plotly.v1+json": {
       "data": [
        {
         "type": "bar",
         "uid": "196934a2-c6cd-11e8-836d-6a000073fc60",
         "x": [
          "64GB",
          "16GB",
          "256GB",
          "128GB",
          "32GB"
         ],
         "y": [
          60,
          20,
          18,
          14,
          12
         ]
        }
       ],
       "layout": {
        "font": {
         "size": 16
        },
        "title": "Memory Size Distribution"
       }
      },
      "text/html": [
       "<div id=\"74ba7f6c-922a-4893-996e-db1a2de5dd17\" style=\"height: 525px; width: 100%;\" class=\"plotly-graph-div\"></div><script type=\"text/javascript\">require([\"plotly\"], function(Plotly) { window.PLOTLYENV=window.PLOTLYENV || {};window.PLOTLYENV.BASE_URL=\"https://plot.ly\";Plotly.newPlot(\"74ba7f6c-922a-4893-996e-db1a2de5dd17\", [{\"x\": [\"64GB\", \"16GB\", \"256GB\", \"128GB\", \"32GB\"], \"y\": [60, 20, 18, 14, 12], \"type\": \"bar\", \"uid\": \"196c7c52-c6cd-11e8-bac5-6a000073fc60\"}], {\"font\": {\"size\": 16}, \"title\": \"Memory Size Distribution\"}, {\"showLink\": true, \"linkText\": \"Export to plot.ly\"})});</script>"
      ],
      "text/vnd.plotly.v1+html": [
       "<div id=\"74ba7f6c-922a-4893-996e-db1a2de5dd17\" style=\"height: 525px; width: 100%;\" class=\"plotly-graph-div\"></div><script type=\"text/javascript\">require([\"plotly\"], function(Plotly) { window.PLOTLYENV=window.PLOTLYENV || {};window.PLOTLYENV.BASE_URL=\"https://plot.ly\";Plotly.newPlot(\"74ba7f6c-922a-4893-996e-db1a2de5dd17\", [{\"x\": [\"64GB\", \"16GB\", \"256GB\", \"128GB\", \"32GB\"], \"y\": [60, 20, 18, 14, 12], \"type\": \"bar\", \"uid\": \"196c7c52-c6cd-11e8-bac5-6a000073fc60\"}], {\"font\": {\"size\": 16}, \"title\": \"Memory Size Distribution\"}, {\"showLink\": true, \"linkText\": \"Export to plot.ly\"})});</script>"
      ]
     },
     "metadata": {},
     "output_type": "display_data"
    }
   ],
   "source": [
    "data_size = [go.Bar(\n",
    "            x=size_str,\n",
    "            y=list(size)\n",
    "    )]\n",
    "\n",
    "iplot({'data':data_size, 'layout':{'title': 'Memory Size Distribution',\n",
    "                          'font': dict(size=16)}}, filename='basic-bar')"
   ]
  },
  {
   "cell_type": "code",
   "execution_count": 14,
   "metadata": {},
   "outputs": [
    {
     "data": {
      "application/vnd.plotly.v1+json": {
       "data": [
        {
         "name": "64GB",
         "type": "box",
         "uid": "197363d2-c6cd-11e8-bec4-6a000073fc60",
         "y": [
          690,
          690,
          735,
          765,
          850,
          750,
          750,
          750,
          700,
          640,
          600,
          775,
          640,
          500,
          450,
          570,
          580,
          580
         ]
        },
        {
         "name": "16GB",
         "type": "box",
         "uid": "19736558-c6cd-11e8-b882-6a000073fc60",
         "y": [
          675,
          660,
          695,
          749,
          764,
          700,
          660,
          679,
          715,
          680,
          670,
          210,
          150,
          160,
          150,
          165,
          570,
          535,
          545,
          530,
          630,
          560,
          620,
          585,
          530,
          550,
          505,
          490,
          500,
          465,
          515,
          540,
          465,
          465,
          540,
          515,
          472,
          539,
          479,
          490,
          485,
          170,
          230,
          265,
          260,
          250,
          265,
          299,
          230,
          230,
          250,
          190,
          210,
          185,
          235,
          249,
          220,
          255,
          190,
          220
         ]
        },
        {
         "name": "256GB",
         "type": "box",
         "uid": "19736618-c6cd-11e8-8fe3-6a000073fc60",
         "y": [
          140,
          185,
          185,
          330,
          465,
          399,
          384,
          395,
          295,
          310,
          310,
          300,
          399,
          223
         ]
        },
        {
         "name": "128GB",
         "type": "box",
         "uid": "197366ac-c6cd-11e8-9752-6a000073fc60",
         "y": [
          259,
          210,
          210,
          189,
          149,
          145,
          155,
          275,
          252,
          285,
          255,
          175
         ]
        },
        {
         "name": "32GB",
         "type": "box",
         "uid": "19736742-c6cd-11e8-82a7-6a000073fc60",
         "y": [
          115,
          119,
          120,
          104,
          104,
          220,
          270,
          240,
          218,
          235,
          249,
          210,
          205,
          155,
          184,
          175,
          175,
          125,
          198,
          189
         ]
        }
       ],
       "layout": {
        "font": {
         "size": 16
        },
        "title": "Memory Size Box Plots"
       }
      },
      "text/html": [
       "<div id=\"d4621280-e259-4889-b8b1-200331e6476e\" style=\"height: 525px; width: 100%;\" class=\"plotly-graph-div\"></div><script type=\"text/javascript\">require([\"plotly\"], function(Plotly) { window.PLOTLYENV=window.PLOTLYENV || {};window.PLOTLYENV.BASE_URL=\"https://plot.ly\";Plotly.newPlot(\"d4621280-e259-4889-b8b1-200331e6476e\", [{\"name\": \"64GB\", \"y\": [690, 690, 735, 765, 850, 750, 750, 750, 700, 640, 600, 775, 640, 500, 450, 570, 580, 580], \"type\": \"box\", \"uid\": \"19775ecc-c6cd-11e8-baf1-6a000073fc60\"}, {\"name\": \"16GB\", \"y\": [675, 660, 695, 749, 764, 700, 660, 679, 715, 680, 670, 210, 150, 160, 150, 165, 570, 535, 545, 530, 630, 560, 620, 585, 530, 550, 505, 490, 500, 465, 515, 540, 465, 465, 540, 515, 472, 539, 479, 490, 485, 170, 230, 265, 260, 250, 265, 299, 230, 230, 250, 190, 210, 185, 235, 249, 220, 255, 190, 220], \"type\": \"box\", \"uid\": \"19776054-c6cd-11e8-b728-6a000073fc60\"}, {\"name\": \"256GB\", \"y\": [140, 185, 185, 330, 465, 399, 384, 395, 295, 310, 310, 300, 399, 223], \"type\": \"box\", \"uid\": \"19776176-c6cd-11e8-97fc-6a000073fc60\"}, {\"name\": \"128GB\", \"y\": [259, 210, 210, 189, 149, 145, 155, 275, 252, 285, 255, 175], \"type\": \"box\", \"uid\": \"1977620c-c6cd-11e8-b07f-6a000073fc60\"}, {\"name\": \"32GB\", \"y\": [115, 119, 120, 104, 104, 220, 270, 240, 218, 235, 249, 210, 205, 155, 184, 175, 175, 125, 198, 189], \"type\": \"box\", \"uid\": \"197762a2-c6cd-11e8-9086-6a000073fc60\"}], {\"font\": {\"size\": 16}, \"title\": \"Memory Size Box Plots\"}, {\"showLink\": true, \"linkText\": \"Export to plot.ly\"})});</script>"
      ],
      "text/vnd.plotly.v1+html": [
       "<div id=\"d4621280-e259-4889-b8b1-200331e6476e\" style=\"height: 525px; width: 100%;\" class=\"plotly-graph-div\"></div><script type=\"text/javascript\">require([\"plotly\"], function(Plotly) { window.PLOTLYENV=window.PLOTLYENV || {};window.PLOTLYENV.BASE_URL=\"https://plot.ly\";Plotly.newPlot(\"d4621280-e259-4889-b8b1-200331e6476e\", [{\"name\": \"64GB\", \"y\": [690, 690, 735, 765, 850, 750, 750, 750, 700, 640, 600, 775, 640, 500, 450, 570, 580, 580], \"type\": \"box\", \"uid\": \"19775ecc-c6cd-11e8-baf1-6a000073fc60\"}, {\"name\": \"16GB\", \"y\": [675, 660, 695, 749, 764, 700, 660, 679, 715, 680, 670, 210, 150, 160, 150, 165, 570, 535, 545, 530, 630, 560, 620, 585, 530, 550, 505, 490, 500, 465, 515, 540, 465, 465, 540, 515, 472, 539, 479, 490, 485, 170, 230, 265, 260, 250, 265, 299, 230, 230, 250, 190, 210, 185, 235, 249, 220, 255, 190, 220], \"type\": \"box\", \"uid\": \"19776054-c6cd-11e8-b728-6a000073fc60\"}, {\"name\": \"256GB\", \"y\": [140, 185, 185, 330, 465, 399, 384, 395, 295, 310, 310, 300, 399, 223], \"type\": \"box\", \"uid\": \"19776176-c6cd-11e8-97fc-6a000073fc60\"}, {\"name\": \"128GB\", \"y\": [259, 210, 210, 189, 149, 145, 155, 275, 252, 285, 255, 175], \"type\": \"box\", \"uid\": \"1977620c-c6cd-11e8-b07f-6a000073fc60\"}, {\"name\": \"32GB\", \"y\": [115, 119, 120, 104, 104, 220, 270, 240, 218, 235, 249, 210, 205, 155, 184, 175, 175, 125, 198, 189], \"type\": \"box\", \"uid\": \"197762a2-c6cd-11e8-9086-6a000073fc60\"}], {\"font\": {\"size\": 16}, \"title\": \"Memory Size Box Plots\"}, {\"showLink\": true, \"linkText\": \"Export to plot.ly\"})});</script>"
      ]
     },
     "metadata": {},
     "output_type": "display_data"
    }
   ],
   "source": [
    "data_box_size = []\n",
    "traces_sizes, unique_sizes = generate_traces(iphone_df,'Size')\n",
    "i = 0\n",
    "for trace in traces_sizes:\n",
    "    data_box_size.append(go.Box( y= trace,name=size_str[i]))\n",
    "    i+=1\n",
    "iplot({'data':data_box_size, 'layout':{'title': 'Memory Size Box Plots',\n",
    "                          'font': dict(size=16)}}, filename='basic-bar')"
   ]
  },
  {
   "cell_type": "code",
   "execution_count": 15,
   "metadata": {},
   "outputs": [
    {
     "name": "stdout",
     "output_type": "stream",
     "text": [
      "Good            63\n",
      "Mint            50\n",
      "Fair             6\n",
      "New (Resale)     5\n",
      "Name: Condition, dtype: int64\n"
     ]
    }
   ],
   "source": [
    "condition = iphone_df['Condition'].value_counts()\n",
    "print(condition)"
   ]
  },
  {
   "cell_type": "code",
   "execution_count": 16,
   "metadata": {},
   "outputs": [
    {
     "data": {
      "application/vnd.plotly.v1+json": {
       "data": [
        {
         "type": "bar",
         "uid": "197dcf3e-c6cd-11e8-98ff-6a000073fc60",
         "x": [
          "Good",
          "Mint",
          "Fair",
          "New (Resale)"
         ],
         "y": [
          63,
          50,
          6,
          5
         ]
        }
       ],
       "layout": {
        "font": {
         "size": 16
        },
        "title": "Phone Condition Distribution"
       }
      },
      "text/html": [
       "<div id=\"8743c8be-c23f-4750-95da-02673648e25a\" style=\"height: 525px; width: 100%;\" class=\"plotly-graph-div\"></div><script type=\"text/javascript\">require([\"plotly\"], function(Plotly) { window.PLOTLYENV=window.PLOTLYENV || {};window.PLOTLYENV.BASE_URL=\"https://plot.ly\";Plotly.newPlot(\"8743c8be-c23f-4750-95da-02673648e25a\", [{\"x\": [\"Good\", \"Mint\", \"Fair\", \"New (Resale)\"], \"y\": [63, 50, 6, 5], \"type\": \"bar\", \"uid\": \"1981154a-c6cd-11e8-81d1-6a000073fc60\"}], {\"font\": {\"size\": 16}, \"title\": \"Phone Condition Distribution\"}, {\"showLink\": true, \"linkText\": \"Export to plot.ly\"})});</script>"
      ],
      "text/vnd.plotly.v1+html": [
       "<div id=\"8743c8be-c23f-4750-95da-02673648e25a\" style=\"height: 525px; width: 100%;\" class=\"plotly-graph-div\"></div><script type=\"text/javascript\">require([\"plotly\"], function(Plotly) { window.PLOTLYENV=window.PLOTLYENV || {};window.PLOTLYENV.BASE_URL=\"https://plot.ly\";Plotly.newPlot(\"8743c8be-c23f-4750-95da-02673648e25a\", [{\"x\": [\"Good\", \"Mint\", \"Fair\", \"New (Resale)\"], \"y\": [63, 50, 6, 5], \"type\": \"bar\", \"uid\": \"1981154a-c6cd-11e8-81d1-6a000073fc60\"}], {\"font\": {\"size\": 16}, \"title\": \"Phone Condition Distribution\"}, {\"showLink\": true, \"linkText\": \"Export to plot.ly\"})});</script>"
      ]
     },
     "metadata": {},
     "output_type": "display_data"
    }
   ],
   "source": [
    "data_condition = [go.Bar(\n",
    "            x=list(condition.index),\n",
    "            y=list(condition)\n",
    "    )]\n",
    "\n",
    "iplot({'data':data_condition, 'layout':{'title': 'Phone Condition Distribution',\n",
    "                          'font': dict(size=16)}}, filename='basic-bar')"
   ]
  },
  {
   "cell_type": "code",
   "execution_count": 17,
   "metadata": {},
   "outputs": [
    {
     "data": {
      "application/vnd.plotly.v1+json": {
       "data": [
        {
         "name": "Mint",
         "type": "box",
         "uid": "1987b72e-c6cd-11e8-b861-6a000073fc60",
         "y": [
          690,
          675,
          690,
          735,
          695,
          765,
          850,
          749,
          764,
          700,
          660,
          679,
          715,
          680,
          670,
          210,
          259,
          210,
          210,
          189,
          150,
          640,
          570,
          545,
          775,
          620,
          585,
          530,
          640,
          550,
          505,
          500,
          540,
          450,
          570,
          580,
          580,
          490,
          485,
          399,
          395,
          310,
          310,
          300,
          299,
          249,
          184,
          175,
          198,
          189
         ]
        },
        {
         "name": "Good",
         "type": "box",
         "uid": "1987b86e-c6cd-11e8-a733-6a000073fc60",
         "y": [
          660,
          750,
          750,
          750,
          700,
          140,
          115,
          185,
          185,
          149,
          150,
          119,
          160,
          145,
          155,
          165,
          104,
          535,
          530,
          600,
          560,
          490,
          465,
          465,
          465,
          515,
          500,
          479,
          465,
          384,
          275,
          252,
          285,
          170,
          220,
          270,
          265,
          260,
          250,
          265,
          240,
          230,
          230,
          255,
          235,
          399,
          250,
          190,
          210,
          210,
          205,
          185,
          235,
          223,
          249,
          155,
          220,
          255,
          175,
          190,
          125,
          220,
          175
         ]
        },
        {
         "name": "Fair",
         "type": "box",
         "uid": "1987b918-c6cd-11e8-a5ec-6a000073fc60",
         "y": [
          120,
          104,
          330,
          295,
          230,
          218
         ]
        },
        {
         "name": "New (Resale)",
         "type": "box",
         "uid": "1987b9ae-c6cd-11e8-a7a4-6a000073fc60",
         "y": [
          630,
          515,
          540,
          472,
          539
         ]
        }
       ],
       "layout": {
        "font": {
         "size": 16
        },
        "title": "Phone Condition Box Plots"
       }
      },
      "text/html": [
       "<div id=\"7cf303e2-fd3a-4c1c-90a7-bb24b6bdb43c\" style=\"height: 525px; width: 100%;\" class=\"plotly-graph-div\"></div><script type=\"text/javascript\">require([\"plotly\"], function(Plotly) { window.PLOTLYENV=window.PLOTLYENV || {};window.PLOTLYENV.BASE_URL=\"https://plot.ly\";Plotly.newPlot(\"7cf303e2-fd3a-4c1c-90a7-bb24b6bdb43c\", [{\"name\": \"Mint\", \"y\": [690, 675, 690, 735, 695, 765, 850, 749, 764, 700, 660, 679, 715, 680, 670, 210, 259, 210, 210, 189, 150, 640, 570, 545, 775, 620, 585, 530, 640, 550, 505, 500, 540, 450, 570, 580, 580, 490, 485, 399, 395, 310, 310, 300, 299, 249, 184, 175, 198, 189], \"type\": \"box\", \"uid\": \"198b9934-c6cd-11e8-96d5-6a000073fc60\"}, {\"name\": \"Good\", \"y\": [660, 750, 750, 750, 700, 140, 115, 185, 185, 149, 150, 119, 160, 145, 155, 165, 104, 535, 530, 600, 560, 490, 465, 465, 465, 515, 500, 479, 465, 384, 275, 252, 285, 170, 220, 270, 265, 260, 250, 265, 240, 230, 230, 255, 235, 399, 250, 190, 210, 210, 205, 185, 235, 223, 249, 155, 220, 255, 175, 190, 125, 220, 175], \"type\": \"box\", \"uid\": \"198b9aba-c6cd-11e8-8b13-6a000073fc60\"}, {\"name\": \"Fair\", \"y\": [120, 104, 330, 295, 230, 218], \"type\": \"box\", \"uid\": \"198b9b82-c6cd-11e8-881b-6a000073fc60\"}, {\"name\": \"New (Resale)\", \"y\": [630, 515, 540, 472, 539], \"type\": \"box\", \"uid\": \"198b9c2c-c6cd-11e8-ae9f-6a000073fc60\"}], {\"font\": {\"size\": 16}, \"title\": \"Phone Condition Box Plots\"}, {\"showLink\": true, \"linkText\": \"Export to plot.ly\"})});</script>"
      ],
      "text/vnd.plotly.v1+html": [
       "<div id=\"7cf303e2-fd3a-4c1c-90a7-bb24b6bdb43c\" style=\"height: 525px; width: 100%;\" class=\"plotly-graph-div\"></div><script type=\"text/javascript\">require([\"plotly\"], function(Plotly) { window.PLOTLYENV=window.PLOTLYENV || {};window.PLOTLYENV.BASE_URL=\"https://plot.ly\";Plotly.newPlot(\"7cf303e2-fd3a-4c1c-90a7-bb24b6bdb43c\", [{\"name\": \"Mint\", \"y\": [690, 675, 690, 735, 695, 765, 850, 749, 764, 700, 660, 679, 715, 680, 670, 210, 259, 210, 210, 189, 150, 640, 570, 545, 775, 620, 585, 530, 640, 550, 505, 500, 540, 450, 570, 580, 580, 490, 485, 399, 395, 310, 310, 300, 299, 249, 184, 175, 198, 189], \"type\": \"box\", \"uid\": \"198b9934-c6cd-11e8-96d5-6a000073fc60\"}, {\"name\": \"Good\", \"y\": [660, 750, 750, 750, 700, 140, 115, 185, 185, 149, 150, 119, 160, 145, 155, 165, 104, 535, 530, 600, 560, 490, 465, 465, 465, 515, 500, 479, 465, 384, 275, 252, 285, 170, 220, 270, 265, 260, 250, 265, 240, 230, 230, 255, 235, 399, 250, 190, 210, 210, 205, 185, 235, 223, 249, 155, 220, 255, 175, 190, 125, 220, 175], \"type\": \"box\", \"uid\": \"198b9aba-c6cd-11e8-8b13-6a000073fc60\"}, {\"name\": \"Fair\", \"y\": [120, 104, 330, 295, 230, 218], \"type\": \"box\", \"uid\": \"198b9b82-c6cd-11e8-881b-6a000073fc60\"}, {\"name\": \"New (Resale)\", \"y\": [630, 515, 540, 472, 539], \"type\": \"box\", \"uid\": \"198b9c2c-c6cd-11e8-ae9f-6a000073fc60\"}], {\"font\": {\"size\": 16}, \"title\": \"Phone Condition Box Plots\"}, {\"showLink\": true, \"linkText\": \"Export to plot.ly\"})});</script>"
      ]
     },
     "metadata": {},
     "output_type": "display_data"
    }
   ],
   "source": [
    "data_box_condition = []\n",
    "traces_condition, unique_conditions = generate_traces(iphone_df,'Condition')\n",
    "i = 0\n",
    "for trace in traces_condition:\n",
    "    data_box_condition.append(go.Box( y= trace,name=unique_conditions[i]))\n",
    "    i+=1\n",
    "iplot({'data':data_box_condition, 'layout':{'title': 'Phone Condition Box Plots',\n",
    "                          'font': dict(size=16)}}, filename='basic-bar')"
   ]
  },
  {
   "cell_type": "code",
   "execution_count": 18,
   "metadata": {},
   "outputs": [
    {
     "name": "stdout",
     "output_type": "stream",
     "text": [
      "Good            63\n",
      "Mint            50\n",
      "Fair             6\n",
      "New (Resale)     5\n",
      "Name: Condition, dtype: int64\n"
     ]
    }
   ],
   "source": [
    "carrier = iphone_df['Carrier'].value_counts()\n",
    "print(condition)"
   ]
  },
  {
   "cell_type": "code",
   "execution_count": 19,
   "metadata": {},
   "outputs": [
    {
     "data": {
      "application/vnd.plotly.v1+json": {
       "data": [
        {
         "type": "bar",
         "uid": "199190e6-c6cd-11e8-a18a-6a000073fc60",
         "x": [
          "att",
          "verizon",
          "sprint",
          "tmobile"
         ],
         "y": [
          40,
          30,
          30,
          24
         ]
        }
       ],
       "layout": {
        "font": {
         "size": 16
        },
        "title": "Phone Carrier Distribution"
       }
      },
      "text/html": [
       "<div id=\"4ed1da3f-e2b2-43e3-aa9b-603a5a99ef68\" style=\"height: 525px; width: 100%;\" class=\"plotly-graph-div\"></div><script type=\"text/javascript\">require([\"plotly\"], function(Plotly) { window.PLOTLYENV=window.PLOTLYENV || {};window.PLOTLYENV.BASE_URL=\"https://plot.ly\";Plotly.newPlot(\"4ed1da3f-e2b2-43e3-aa9b-603a5a99ef68\", [{\"x\": [\"att\", \"verizon\", \"sprint\", \"tmobile\"], \"y\": [40, 30, 30, 24], \"type\": \"bar\", \"uid\": \"199521fa-c6cd-11e8-919f-6a000073fc60\"}], {\"font\": {\"size\": 16}, \"title\": \"Phone Carrier Distribution\"}, {\"showLink\": true, \"linkText\": \"Export to plot.ly\"})});</script>"
      ],
      "text/vnd.plotly.v1+html": [
       "<div id=\"4ed1da3f-e2b2-43e3-aa9b-603a5a99ef68\" style=\"height: 525px; width: 100%;\" class=\"plotly-graph-div\"></div><script type=\"text/javascript\">require([\"plotly\"], function(Plotly) { window.PLOTLYENV=window.PLOTLYENV || {};window.PLOTLYENV.BASE_URL=\"https://plot.ly\";Plotly.newPlot(\"4ed1da3f-e2b2-43e3-aa9b-603a5a99ef68\", [{\"x\": [\"att\", \"verizon\", \"sprint\", \"tmobile\"], \"y\": [40, 30, 30, 24], \"type\": \"bar\", \"uid\": \"199521fa-c6cd-11e8-919f-6a000073fc60\"}], {\"font\": {\"size\": 16}, \"title\": \"Phone Carrier Distribution\"}, {\"showLink\": true, \"linkText\": \"Export to plot.ly\"})});</script>"
      ]
     },
     "metadata": {},
     "output_type": "display_data"
    }
   ],
   "source": [
    "data_carrier = [go.Bar(\n",
    "            x=list(carrier.index),\n",
    "            y=list(carrier)\n",
    "    )]\n",
    "\n",
    "iplot({'data':data_carrier, 'layout':{'title': 'Phone Carrier Distribution',\n",
    "                          'font': dict(size=16)}}, filename='basic-bar')"
   ]
  },
  {
   "cell_type": "code",
   "execution_count": 20,
   "metadata": {},
   "outputs": [
    {
     "data": {
      "application/vnd.plotly.v1+json": {
       "data": [
        {
         "name": "verizon",
         "type": "box",
         "uid": "199c6688-c6cd-11e8-838d-6a000073fc60",
         "y": [
          690,
          675,
          660,
          690,
          735,
          140,
          210,
          259,
          210,
          210,
          640,
          570,
          535,
          545,
          530,
          490,
          500,
          465,
          515,
          540,
          170,
          220,
          270,
          230,
          310,
          190,
          210,
          210,
          205,
          185
         ]
        },
        {
         "name": "att",
         "type": "box",
         "uid": "199c67dc-c6cd-11e8-88fd-6a000073fc60",
         "y": [
          695,
          765,
          850,
          749,
          750,
          115,
          185,
          189,
          185,
          149,
          630,
          600,
          560,
          775,
          620,
          465,
          465,
          540,
          515,
          500,
          330,
          465,
          399,
          384,
          395,
          295,
          275,
          252,
          310,
          285,
          265,
          260,
          250,
          300,
          265,
          235,
          223,
          249,
          155,
          184
         ]
        },
        {
         "name": "tmobile",
         "type": "box",
         "uid": "199c689a-c6cd-11e8-84ee-6a000073fc60",
         "y": [
          764,
          750,
          750,
          700,
          660,
          150,
          119,
          160,
          120,
          145,
          472,
          539,
          450,
          479,
          240,
          299,
          230,
          230,
          218,
          175,
          220,
          255,
          175,
          190
         ]
        },
        {
         "name": "sprint",
         "type": "box",
         "uid": "199c6946-c6cd-11e8-8d02-6a000073fc60",
         "y": [
          679,
          715,
          680,
          670,
          700,
          104,
          150,
          155,
          165,
          104,
          585,
          530,
          640,
          550,
          505,
          570,
          580,
          580,
          490,
          485,
          255,
          235,
          249,
          399,
          250,
          125,
          198,
          220,
          175,
          189
         ]
        }
       ],
       "layout": {
        "font": {
         "size": 16
        },
        "title": "Phone Carrier Box Plots"
       }
      },
      "text/html": [
       "<div id=\"121e7821-b33c-4122-bb78-3337bd248edf\" style=\"height: 525px; width: 100%;\" class=\"plotly-graph-div\"></div><script type=\"text/javascript\">require([\"plotly\"], function(Plotly) { window.PLOTLYENV=window.PLOTLYENV || {};window.PLOTLYENV.BASE_URL=\"https://plot.ly\";Plotly.newPlot(\"121e7821-b33c-4122-bb78-3337bd248edf\", [{\"name\": \"verizon\", \"y\": [690, 675, 660, 690, 735, 140, 210, 259, 210, 210, 640, 570, 535, 545, 530, 490, 500, 465, 515, 540, 170, 220, 270, 230, 310, 190, 210, 210, 205, 185], \"type\": \"box\", \"uid\": \"19a0430c-c6cd-11e8-a3d8-6a000073fc60\"}, {\"name\": \"att\", \"y\": [695, 765, 850, 749, 750, 115, 185, 189, 185, 149, 630, 600, 560, 775, 620, 465, 465, 540, 515, 500, 330, 465, 399, 384, 395, 295, 275, 252, 310, 285, 265, 260, 250, 300, 265, 235, 223, 249, 155, 184], \"type\": \"box\", \"uid\": \"19a04442-c6cd-11e8-a4d4-6a000073fc60\"}, {\"name\": \"tmobile\", \"y\": [764, 750, 750, 700, 660, 150, 119, 160, 120, 145, 472, 539, 450, 479, 240, 299, 230, 230, 218, 175, 220, 255, 175, 190], \"type\": \"box\", \"uid\": \"19a04500-c6cd-11e8-8699-6a000073fc60\"}, {\"name\": \"sprint\", \"y\": [679, 715, 680, 670, 700, 104, 150, 155, 165, 104, 585, 530, 640, 550, 505, 570, 580, 580, 490, 485, 255, 235, 249, 399, 250, 125, 198, 220, 175, 189], \"type\": \"box\", \"uid\": \"19a045a8-c6cd-11e8-9063-6a000073fc60\"}], {\"font\": {\"size\": 16}, \"title\": \"Phone Carrier Box Plots\"}, {\"showLink\": true, \"linkText\": \"Export to plot.ly\"})});</script>"
      ],
      "text/vnd.plotly.v1+html": [
       "<div id=\"121e7821-b33c-4122-bb78-3337bd248edf\" style=\"height: 525px; width: 100%;\" class=\"plotly-graph-div\"></div><script type=\"text/javascript\">require([\"plotly\"], function(Plotly) { window.PLOTLYENV=window.PLOTLYENV || {};window.PLOTLYENV.BASE_URL=\"https://plot.ly\";Plotly.newPlot(\"121e7821-b33c-4122-bb78-3337bd248edf\", [{\"name\": \"verizon\", \"y\": [690, 675, 660, 690, 735, 140, 210, 259, 210, 210, 640, 570, 535, 545, 530, 490, 500, 465, 515, 540, 170, 220, 270, 230, 310, 190, 210, 210, 205, 185], \"type\": \"box\", \"uid\": \"19a0430c-c6cd-11e8-a3d8-6a000073fc60\"}, {\"name\": \"att\", \"y\": [695, 765, 850, 749, 750, 115, 185, 189, 185, 149, 630, 600, 560, 775, 620, 465, 465, 540, 515, 500, 330, 465, 399, 384, 395, 295, 275, 252, 310, 285, 265, 260, 250, 300, 265, 235, 223, 249, 155, 184], \"type\": \"box\", \"uid\": \"19a04442-c6cd-11e8-a4d4-6a000073fc60\"}, {\"name\": \"tmobile\", \"y\": [764, 750, 750, 700, 660, 150, 119, 160, 120, 145, 472, 539, 450, 479, 240, 299, 230, 230, 218, 175, 220, 255, 175, 190], \"type\": \"box\", \"uid\": \"19a04500-c6cd-11e8-8699-6a000073fc60\"}, {\"name\": \"sprint\", \"y\": [679, 715, 680, 670, 700, 104, 150, 155, 165, 104, 585, 530, 640, 550, 505, 570, 580, 580, 490, 485, 255, 235, 249, 399, 250, 125, 198, 220, 175, 189], \"type\": \"box\", \"uid\": \"19a045a8-c6cd-11e8-9063-6a000073fc60\"}], {\"font\": {\"size\": 16}, \"title\": \"Phone Carrier Box Plots\"}, {\"showLink\": true, \"linkText\": \"Export to plot.ly\"})});</script>"
      ]
     },
     "metadata": {},
     "output_type": "display_data"
    }
   ],
   "source": [
    "data_box_carrier = []\n",
    "traces_carriers, unique_carriers = generate_traces(iphone_df,'Carrier')\n",
    "i = 0\n",
    "for trace in traces_carriers:\n",
    "    data_box_carrier.append(go.Box( y= trace,name=unique_carriers[i]))\n",
    "    i+=1\n",
    "iplot({'data':data_box_carrier, 'layout':{'title': 'Phone Carrier Box Plots',\n",
    "                          'font': dict(size=16)}}, filename='basic-bar')"
   ]
  },
  {
   "cell_type": "markdown",
   "metadata": {},
   "source": [
    "## One Hot Encoding All Categorical Variables"
   ]
  },
  {
   "cell_type": "code",
   "execution_count": 21,
   "metadata": {},
   "outputs": [],
   "source": [
    "def bin_multi_label(dataframe,column_name):\n",
    "    data_ = dataframe[column_name].value_counts()\n",
    "\n",
    "    list_ = [[i] for i in list(dataframe[column_name])]\n",
    "\n",
    "    one_hot = MultiLabelBinarizer()\n",
    "    one_hot.fit([list(data_.index)]) \n",
    "    one_hot_data_= one_hot.transform(list_)\n",
    "\n",
    "    print(\"Model Classes:\", one_hot.classes_)\n",
    "    model_df = pd.DataFrame(one_hot_data_,columns = one_hot.classes_)\n",
    "    #print(model_df.head(10))\n",
    "    print(\"Shape is:\",model_df.shape)\n",
    "    print(\"\\n\")\n",
    "    return one_hot, model_df"
   ]
  },
  {
   "cell_type": "code",
   "execution_count": 22,
   "metadata": {},
   "outputs": [
    {
     "name": "stdout",
     "output_type": "stream",
     "text": [
      "Model Classes: ['apple-iphone-6s' 'apple-iphone-6s-plus' 'apple-iphone-7-a1660'\n",
      " 'apple-iphone-7-plus-a1661' 'apple-iphone-8-a1863'\n",
      " 'apple-iphone-8-plus-a1864' 'apple-iphone-se' 'apple-iphone-x-a1865']\n",
      "Shape is: (124, 8)\n",
      "\n",
      "\n",
      "Model Classes: ['Black' 'Gold' 'Gray' 'Grey' 'Red' 'Rose Gold' 'Silver']\n",
      "Shape is: (124, 7)\n",
      "\n",
      "\n",
      "Model Classes: ['att' 'sprint' 'tmobile' 'verizon']\n",
      "Shape is: (124, 4)\n",
      "\n",
      "\n",
      "Model Classes: ['Fair' 'Good' 'Mint' 'New (Resale)']\n",
      "Shape is: (124, 4)\n",
      "\n",
      "\n"
     ]
    }
   ],
   "source": [
    "mlb_model,model_df = bin_multi_label(iphone_df,'Phone Model')\n",
    "mlb_color,color_df = bin_multi_label(iphone_df,'Color')\n",
    "mlb_carrier,carrier_df = bin_multi_label(iphone_df,'Carrier')\n",
    "mlb_condition,condition_df = bin_multi_label(iphone_df,'Condition')"
   ]
  },
  {
   "cell_type": "code",
   "execution_count": 23,
   "metadata": {
    "scrolled": true
   },
   "outputs": [
    {
     "name": "stdout",
     "output_type": "stream",
     "text": [
      "Index(['apple-iphone-6s', 'apple-iphone-6s-plus', 'apple-iphone-7-a1660',\n",
      "       'apple-iphone-7-plus-a1661', 'apple-iphone-8-a1863',\n",
      "       'apple-iphone-8-plus-a1864', 'apple-iphone-se', 'apple-iphone-x-a1865',\n",
      "       'att', 'sprint', 'tmobile', 'verizon', 'Fair', 'Good', 'Mint',\n",
      "       'New (Resale)', 'Black', 'Gold', 'Gray', 'Grey', 'Red', 'Rose Gold',\n",
      "       'Silver', 'Size', 'Recently Sold Price'],\n",
      "      dtype='object')\n",
      "(124, 25)\n"
     ]
    }
   ],
   "source": [
    "#model_df.reset_index(drop=True, inplace=True)\n",
    "#carrier_df.reset_index(drop=True, inplace=True)\n",
    "data_encoded = pd.concat([model_df,carrier_df,condition_df,color_df,iphone_df['Size'],iphone_df['Recently Sold Price']], axis=1,sort=False)\n",
    "print(data_encoded.columns)\n",
    "print(data_encoded.shape)"
   ]
  },
  {
   "cell_type": "code",
   "execution_count": 24,
   "metadata": {},
   "outputs": [],
   "source": [
    "#file_name = \"data_encoded.csv\"\n",
    "#data_encoded.to_csv(file_name, encoding='utf-8', index=False)"
   ]
  },
  {
   "cell_type": "code",
   "execution_count": 25,
   "metadata": {},
   "outputs": [],
   "source": [
    "def undo_mlb_transform(mlb, data_array):\n",
    "    data_array = [[i] for i in data_array]\n",
    "    undid = mlb.inverse_transform(np.transpose(data_array))\n",
    "    return undid[0][0]"
   ]
  },
  {
   "cell_type": "code",
   "execution_count": 26,
   "metadata": {},
   "outputs": [],
   "source": [
    "pickle.dump(mlb_model, open('mlb_model.sav', 'wb'))\n",
    "pickle.dump(mlb_color, open('mlb_color.sav', 'wb'))\n",
    "pickle.dump(mlb_carrier, open('mlb_carrier.sav', 'wb'))\n",
    "pickle.dump(mlb_condition, open('mlb_condition.sav', 'wb'))"
   ]
  },
  {
   "cell_type": "code",
   "execution_count": null,
   "metadata": {},
   "outputs": [],
   "source": []
  }
 ],
 "metadata": {
  "kernelspec": {
   "display_name": "Python 3",
   "language": "python",
   "name": "python3"
  },
  "language_info": {
   "codemirror_mode": {
    "name": "ipython",
    "version": 3
   },
   "file_extension": ".py",
   "mimetype": "text/x-python",
   "name": "python",
   "nbconvert_exporter": "python",
   "pygments_lexer": "ipython3",
   "version": "3.6.5"
  }
 },
 "nbformat": 4,
 "nbformat_minor": 2
}
