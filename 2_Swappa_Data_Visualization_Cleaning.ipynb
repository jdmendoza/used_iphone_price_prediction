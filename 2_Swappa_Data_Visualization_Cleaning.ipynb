{
 "cells": [
  {
   "cell_type": "code",
   "execution_count": 1,
   "metadata": {},
   "outputs": [
    {
     "data": {
      "text/html": [
       "<script>requirejs.config({paths: { 'plotly': ['https://cdn.plot.ly/plotly-latest.min']},});if(!window.Plotly) {{require(['plotly'],function(plotly) {window.Plotly=plotly;});}}</script>"
      ],
      "text/vnd.plotly.v1+html": [
       "<script>requirejs.config({paths: { 'plotly': ['https://cdn.plot.ly/plotly-latest.min']},});if(!window.Plotly) {{require(['plotly'],function(plotly) {window.Plotly=plotly;});}}</script>"
      ]
     },
     "metadata": {},
     "output_type": "display_data"
    }
   ],
   "source": [
    "#Convert Grey -> Gray\n",
    "import pandas as pd\n",
    "import numpy as np\n",
    "import pickle\n",
    "\n",
    "from plotly import __version__\n",
    "from plotly.offline import download_plotlyjs, init_notebook_mode, plot, iplot\n",
    "import plotly.graph_objs as go\n",
    "\n",
    "from sklearn.preprocessing import MultiLabelBinarizer\n",
    "\n",
    "\n",
    "init_notebook_mode(connected=True)"
   ]
  },
  {
   "cell_type": "code",
   "execution_count": 2,
   "metadata": {},
   "outputs": [],
   "source": [
    "file_name = \"iphone_df.csv\"\n",
    "iphone_df = pd.read_csv(file_name)"
   ]
  },
  {
   "cell_type": "code",
   "execution_count": 3,
   "metadata": {},
   "outputs": [
    {
     "data": {
      "text/plain": [
       "Index(['Phone Model', 'Carrier', 'Condition', 'Color', 'Size',\n",
       "       'Recently Sold Price'],\n",
       "      dtype='object')"
      ]
     },
     "execution_count": 3,
     "metadata": {},
     "output_type": "execute_result"
    }
   ],
   "source": [
    "iphone_df.columns"
   ]
  },
  {
   "cell_type": "code",
   "execution_count": 4,
   "metadata": {},
   "outputs": [
    {
     "data": {
      "text/plain": [
       "[33, 27, 21, 17, 16, 8, 2]"
      ]
     },
     "execution_count": 4,
     "metadata": {},
     "output_type": "execute_result"
    }
   ],
   "source": [
    "colors = iphone_df['Color'].value_counts()\n",
    "list(colors)"
   ]
  },
  {
   "cell_type": "code",
   "execution_count": 5,
   "metadata": {},
   "outputs": [
    {
     "data": {
      "application/vnd.plotly.v1+json": {
       "data": [
        {
         "type": "bar",
         "uid": "3c10266e-c696-11e8-bb2d-6a000073fc60",
         "x": [
          "Gray",
          "Grey",
          "Silver",
          "Gold",
          "Rose Gold",
          "Black",
          "Red"
         ],
         "y": [
          33,
          27,
          21,
          17,
          16,
          8,
          2
         ]
        }
       ],
       "layout": {
        "font": {
         "size": 16
        },
        "title": "Color Distribution"
       }
      },
      "text/html": [
       "<div id=\"0cfdb944-684b-4ced-b739-fbb3f5c52215\" style=\"height: 525px; width: 100%;\" class=\"plotly-graph-div\"></div><script type=\"text/javascript\">require([\"plotly\"], function(Plotly) { window.PLOTLYENV=window.PLOTLYENV || {};window.PLOTLYENV.BASE_URL=\"https://plot.ly\";Plotly.newPlot(\"0cfdb944-684b-4ced-b739-fbb3f5c52215\", [{\"x\": [\"Gray\", \"Grey\", \"Silver\", \"Gold\", \"Rose Gold\", \"Black\", \"Red\"], \"y\": [33, 27, 21, 17, 16, 8, 2], \"type\": \"bar\", \"uid\": \"3c3e9b48-c696-11e8-b3bc-6a000073fc60\"}], {\"font\": {\"size\": 16}, \"title\": \"Color Distribution\"}, {\"showLink\": true, \"linkText\": \"Export to plot.ly\"})});</script>"
      ],
      "text/vnd.plotly.v1+html": [
       "<div id=\"0cfdb944-684b-4ced-b739-fbb3f5c52215\" style=\"height: 525px; width: 100%;\" class=\"plotly-graph-div\"></div><script type=\"text/javascript\">require([\"plotly\"], function(Plotly) { window.PLOTLYENV=window.PLOTLYENV || {};window.PLOTLYENV.BASE_URL=\"https://plot.ly\";Plotly.newPlot(\"0cfdb944-684b-4ced-b739-fbb3f5c52215\", [{\"x\": [\"Gray\", \"Grey\", \"Silver\", \"Gold\", \"Rose Gold\", \"Black\", \"Red\"], \"y\": [33, 27, 21, 17, 16, 8, 2], \"type\": \"bar\", \"uid\": \"3c3e9b48-c696-11e8-b3bc-6a000073fc60\"}], {\"font\": {\"size\": 16}, \"title\": \"Color Distribution\"}, {\"showLink\": true, \"linkText\": \"Export to plot.ly\"})});</script>"
      ]
     },
     "metadata": {},
     "output_type": "display_data"
    }
   ],
   "source": [
    "data_color = [go.Bar(\n",
    "            x=list(colors.index),\n",
    "            y=list(colors)\n",
    "    )]\n",
    "\n",
    "iplot({'data':data_color, 'layout':{'title': 'Color Distribution',\n",
    "                          'font': dict(size=16)}}, filename='basic-bar')"
   ]
  },
  {
   "cell_type": "code",
   "execution_count": 6,
   "metadata": {},
   "outputs": [],
   "source": [
    "colors = iphone_df['Color'].unique()"
   ]
  },
  {
   "cell_type": "code",
   "execution_count": 7,
   "metadata": {},
   "outputs": [],
   "source": [
    "def generate_traces(dataframe,col):\n",
    "    unique_elem = dataframe[col].unique()\n",
    "    traces = []\n",
    "    for uni in unique_elem:\n",
    "        traces.append(list(iphone_df[iphone_df[col] == uni]['Recently Sold Price']))\n",
    "    return traces, unique_elem"
   ]
  },
  {
   "cell_type": "code",
   "execution_count": 8,
   "metadata": {},
   "outputs": [
    {
     "data": {
      "application/vnd.plotly.v1+json": {
       "data": [
        {
         "name": "Gray",
         "type": "box",
         "uid": "3c4c22d8-c696-11e8-9146-6a000073fc60",
         "y": [
          690,
          675,
          660,
          735,
          695,
          765,
          850,
          749,
          750,
          764,
          750,
          700,
          660,
          715,
          680,
          700,
          640,
          570,
          535,
          630,
          560,
          775,
          550,
          505,
          490,
          500,
          465,
          465,
          465,
          540,
          539,
          450,
          479
         ]
        },
        {
         "name": "Silver",
         "type": "box",
         "uid": "3c4c2466-c696-11e8-878e-6a000073fc60",
         "y": [
          690,
          750,
          679,
          670,
          140,
          210,
          259,
          115,
          545,
          515,
          580,
          490,
          485,
          310,
          260,
          230,
          210,
          223,
          155,
          198,
          189
         ]
        },
        {
         "name": "Rose Gold",
         "type": "box",
         "uid": "3c4c2588-c696-11e8-b659-6a000073fc60",
         "y": [
          210,
          210,
          150,
          119,
          150,
          275,
          310,
          230,
          300,
          240,
          235,
          249,
          250,
          249,
          184,
          255
         ]
        },
        {
         "name": "Grey",
         "type": "box",
         "uid": "3c4c2628-c696-11e8-9329-6a000073fc60",
         "y": [
          185,
          189,
          185,
          149,
          120,
          145,
          104,
          155,
          165,
          104,
          170,
          220,
          265,
          299,
          230,
          218,
          399,
          210,
          205,
          185,
          235,
          175,
          175,
          190,
          125,
          220,
          175
         ]
        },
        {
         "name": "Gold",
         "type": "box",
         "uid": "3c4c26be-c696-11e8-83d5-6a000073fc60",
         "y": [
          160,
          530,
          600,
          620,
          530,
          515,
          540,
          500,
          472,
          570,
          580,
          270,
          265,
          250,
          255,
          190,
          220
         ]
        },
        {
         "name": "Red",
         "type": "box",
         "uid": "3c4c2754-c696-11e8-8e5c-6a000073fc60",
         "y": [
          585,
          640
         ]
        },
        {
         "name": "Black",
         "type": "box",
         "uid": "3c4c27e8-c696-11e8-8fce-6a000073fc60",
         "y": [
          330,
          465,
          399,
          384,
          395,
          295,
          252,
          285
         ]
        }
       ],
       "layout": {
        "font": {
         "size": 16
        },
        "title": "Color Box Plots"
       }
      },
      "text/html": [
       "<div id=\"068999a8-d861-4964-a864-5db4500ebd85\" style=\"height: 525px; width: 100%;\" class=\"plotly-graph-div\"></div><script type=\"text/javascript\">require([\"plotly\"], function(Plotly) { window.PLOTLYENV=window.PLOTLYENV || {};window.PLOTLYENV.BASE_URL=\"https://plot.ly\";Plotly.newPlot(\"068999a8-d861-4964-a864-5db4500ebd85\", [{\"name\": \"Gray\", \"y\": [690, 675, 660, 735, 695, 765, 850, 749, 750, 764, 750, 700, 660, 715, 680, 700, 640, 570, 535, 630, 560, 775, 550, 505, 490, 500, 465, 465, 465, 540, 539, 450, 479], \"type\": \"box\", \"uid\": \"3c507d86-c696-11e8-b0a7-6a000073fc60\"}, {\"name\": \"Silver\", \"y\": [690, 750, 679, 670, 140, 210, 259, 115, 545, 515, 580, 490, 485, 310, 260, 230, 210, 223, 155, 198, 189], \"type\": \"box\", \"uid\": \"3c507ee4-c696-11e8-be8f-6a000073fc60\"}, {\"name\": \"Rose Gold\", \"y\": [210, 210, 150, 119, 150, 275, 310, 230, 300, 240, 235, 249, 250, 249, 184, 255], \"type\": \"box\", \"uid\": \"3c507f98-c696-11e8-b138-6a000073fc60\"}, {\"name\": \"Grey\", \"y\": [185, 189, 185, 149, 120, 145, 104, 155, 165, 104, 170, 220, 265, 299, 230, 218, 399, 210, 205, 185, 235, 175, 175, 190, 125, 220, 175], \"type\": \"box\", \"uid\": \"3c50802e-c696-11e8-b59d-6a000073fc60\"}, {\"name\": \"Gold\", \"y\": [160, 530, 600, 620, 530, 515, 540, 500, 472, 570, 580, 270, 265, 250, 255, 190, 220], \"type\": \"box\", \"uid\": \"3c5080c6-c696-11e8-9766-6a000073fc60\"}, {\"name\": \"Red\", \"y\": [585, 640], \"type\": \"box\", \"uid\": \"3c508146-c696-11e8-95e6-6a000073fc60\"}, {\"name\": \"Black\", \"y\": [330, 465, 399, 384, 395, 295, 252, 285], \"type\": \"box\", \"uid\": \"3c5081d2-c696-11e8-b8cc-6a000073fc60\"}], {\"font\": {\"size\": 16}, \"title\": \"Color Box Plots\"}, {\"showLink\": true, \"linkText\": \"Export to plot.ly\"})});</script>"
      ],
      "text/vnd.plotly.v1+html": [
       "<div id=\"068999a8-d861-4964-a864-5db4500ebd85\" style=\"height: 525px; width: 100%;\" class=\"plotly-graph-div\"></div><script type=\"text/javascript\">require([\"plotly\"], function(Plotly) { window.PLOTLYENV=window.PLOTLYENV || {};window.PLOTLYENV.BASE_URL=\"https://plot.ly\";Plotly.newPlot(\"068999a8-d861-4964-a864-5db4500ebd85\", [{\"name\": \"Gray\", \"y\": [690, 675, 660, 735, 695, 765, 850, 749, 750, 764, 750, 700, 660, 715, 680, 700, 640, 570, 535, 630, 560, 775, 550, 505, 490, 500, 465, 465, 465, 540, 539, 450, 479], \"type\": \"box\", \"uid\": \"3c507d86-c696-11e8-b0a7-6a000073fc60\"}, {\"name\": \"Silver\", \"y\": [690, 750, 679, 670, 140, 210, 259, 115, 545, 515, 580, 490, 485, 310, 260, 230, 210, 223, 155, 198, 189], \"type\": \"box\", \"uid\": \"3c507ee4-c696-11e8-be8f-6a000073fc60\"}, {\"name\": \"Rose Gold\", \"y\": [210, 210, 150, 119, 150, 275, 310, 230, 300, 240, 235, 249, 250, 249, 184, 255], \"type\": \"box\", \"uid\": \"3c507f98-c696-11e8-b138-6a000073fc60\"}, {\"name\": \"Grey\", \"y\": [185, 189, 185, 149, 120, 145, 104, 155, 165, 104, 170, 220, 265, 299, 230, 218, 399, 210, 205, 185, 235, 175, 175, 190, 125, 220, 175], \"type\": \"box\", \"uid\": \"3c50802e-c696-11e8-b59d-6a000073fc60\"}, {\"name\": \"Gold\", \"y\": [160, 530, 600, 620, 530, 515, 540, 500, 472, 570, 580, 270, 265, 250, 255, 190, 220], \"type\": \"box\", \"uid\": \"3c5080c6-c696-11e8-9766-6a000073fc60\"}, {\"name\": \"Red\", \"y\": [585, 640], \"type\": \"box\", \"uid\": \"3c508146-c696-11e8-95e6-6a000073fc60\"}, {\"name\": \"Black\", \"y\": [330, 465, 399, 384, 395, 295, 252, 285], \"type\": \"box\", \"uid\": \"3c5081d2-c696-11e8-b8cc-6a000073fc60\"}], {\"font\": {\"size\": 16}, \"title\": \"Color Box Plots\"}, {\"showLink\": true, \"linkText\": \"Export to plot.ly\"})});</script>"
      ]
     },
     "metadata": {},
     "output_type": "display_data"
    }
   ],
   "source": [
    "data_box_color = []\n",
    "traces_colors, unique_colors = generate_traces(iphone_df,'Color')\n",
    "i = 0\n",
    "for trace in traces_colors:\n",
    "    data_box_color.append(go.Box( y= trace,name=unique_colors[i]))\n",
    "    i+=1\n",
    "iplot({'data':data_box_color, 'layout':{'title': 'Color Box Plots',\n",
    "                          'font': dict(size=16)}}, filename='basic-bar')"
   ]
  },
  {
   "cell_type": "code",
   "execution_count": 9,
   "metadata": {},
   "outputs": [
    {
     "name": "stdout",
     "output_type": "stream",
     "text": [
      "['64GB', '16GB', '256GB', '128GB', '32GB']\n"
     ]
    }
   ],
   "source": [
    "size = iphone_df['Size'].value_counts()\n",
    "size_str = [str(i)+'GB' for i in size.index]\n",
    "print(size_str)"
   ]
  },
  {
   "cell_type": "code",
   "execution_count": 10,
   "metadata": {},
   "outputs": [
    {
     "data": {
      "application/vnd.plotly.v1+json": {
       "data": [
        {
         "type": "bar",
         "uid": "3c56414c-c696-11e8-b058-6a000073fc60",
         "x": [
          "64GB",
          "16GB",
          "256GB",
          "128GB",
          "32GB"
         ],
         "y": [
          60,
          20,
          18,
          14,
          12
         ]
        }
       ],
       "layout": {
        "font": {
         "size": 16
        },
        "title": "Memory Size Distribution"
       }
      },
      "text/html": [
       "<div id=\"ae96de7a-8997-4e3a-8fe5-2adc31f84b46\" style=\"height: 525px; width: 100%;\" class=\"plotly-graph-div\"></div><script type=\"text/javascript\">require([\"plotly\"], function(Plotly) { window.PLOTLYENV=window.PLOTLYENV || {};window.PLOTLYENV.BASE_URL=\"https://plot.ly\";Plotly.newPlot(\"ae96de7a-8997-4e3a-8fe5-2adc31f84b46\", [{\"x\": [\"64GB\", \"16GB\", \"256GB\", \"128GB\", \"32GB\"], \"y\": [60, 20, 18, 14, 12], \"type\": \"bar\", \"uid\": \"3c59dce6-c696-11e8-a97e-6a000073fc60\"}], {\"font\": {\"size\": 16}, \"title\": \"Memory Size Distribution\"}, {\"showLink\": true, \"linkText\": \"Export to plot.ly\"})});</script>"
      ],
      "text/vnd.plotly.v1+html": [
       "<div id=\"ae96de7a-8997-4e3a-8fe5-2adc31f84b46\" style=\"height: 525px; width: 100%;\" class=\"plotly-graph-div\"></div><script type=\"text/javascript\">require([\"plotly\"], function(Plotly) { window.PLOTLYENV=window.PLOTLYENV || {};window.PLOTLYENV.BASE_URL=\"https://plot.ly\";Plotly.newPlot(\"ae96de7a-8997-4e3a-8fe5-2adc31f84b46\", [{\"x\": [\"64GB\", \"16GB\", \"256GB\", \"128GB\", \"32GB\"], \"y\": [60, 20, 18, 14, 12], \"type\": \"bar\", \"uid\": \"3c59dce6-c696-11e8-a97e-6a000073fc60\"}], {\"font\": {\"size\": 16}, \"title\": \"Memory Size Distribution\"}, {\"showLink\": true, \"linkText\": \"Export to plot.ly\"})});</script>"
      ]
     },
     "metadata": {},
     "output_type": "display_data"
    }
   ],
   "source": [
    "data_size = [go.Bar(\n",
    "            x=size_str,\n",
    "            y=list(size)\n",
    "    )]\n",
    "\n",
    "iplot({'data':data_size, 'layout':{'title': 'Memory Size Distribution',\n",
    "                          'font': dict(size=16)}}, filename='basic-bar')"
   ]
  },
  {
   "cell_type": "code",
   "execution_count": 11,
   "metadata": {},
   "outputs": [
    {
     "data": {
      "application/vnd.plotly.v1+json": {
       "data": [
        {
         "name": "64GB",
         "type": "box",
         "uid": "3c612ee2-c696-11e8-a189-6a000073fc60",
         "y": [
          690,
          690,
          735,
          765,
          850,
          750,
          750,
          750,
          700,
          640,
          600,
          775,
          640,
          500,
          450,
          570,
          580,
          580
         ]
        },
        {
         "name": "16GB",
         "type": "box",
         "uid": "3c613040-c696-11e8-a933-6a000073fc60",
         "y": [
          675,
          660,
          695,
          749,
          764,
          700,
          660,
          679,
          715,
          680,
          670,
          210,
          150,
          160,
          150,
          165,
          570,
          535,
          545,
          530,
          630,
          560,
          620,
          585,
          530,
          550,
          505,
          490,
          500,
          465,
          515,
          540,
          465,
          465,
          540,
          515,
          472,
          539,
          479,
          490,
          485,
          170,
          230,
          265,
          260,
          250,
          265,
          299,
          230,
          230,
          250,
          190,
          210,
          185,
          235,
          249,
          220,
          255,
          190,
          220
         ]
        },
        {
         "name": "256GB",
         "type": "box",
         "uid": "3c6130e8-c696-11e8-8f4c-6a000073fc60",
         "y": [
          140,
          185,
          185,
          330,
          465,
          399,
          384,
          395,
          295,
          310,
          310,
          300,
          399,
          223
         ]
        },
        {
         "name": "128GB",
         "type": "box",
         "uid": "3c613180-c696-11e8-9504-6a000073fc60",
         "y": [
          259,
          210,
          210,
          189,
          149,
          145,
          155,
          275,
          252,
          285,
          255,
          175
         ]
        },
        {
         "name": "32GB",
         "type": "box",
         "uid": "3c61320c-c696-11e8-b38a-6a000073fc60",
         "y": [
          115,
          119,
          120,
          104,
          104,
          220,
          270,
          240,
          218,
          235,
          249,
          210,
          205,
          155,
          184,
          175,
          175,
          125,
          198,
          189
         ]
        }
       ],
       "layout": {
        "font": {
         "size": 16
        },
        "title": "Memory Size Box Plots"
       }
      },
      "text/html": [
       "<div id=\"4604c77d-9607-48d3-a412-f68dfbc4e9cd\" style=\"height: 525px; width: 100%;\" class=\"plotly-graph-div\"></div><script type=\"text/javascript\">require([\"plotly\"], function(Plotly) { window.PLOTLYENV=window.PLOTLYENV || {};window.PLOTLYENV.BASE_URL=\"https://plot.ly\";Plotly.newPlot(\"4604c77d-9607-48d3-a412-f68dfbc4e9cd\", [{\"name\": \"64GB\", \"y\": [690, 690, 735, 765, 850, 750, 750, 750, 700, 640, 600, 775, 640, 500, 450, 570, 580, 580], \"type\": \"box\", \"uid\": \"3c6d2de6-c696-11e8-ac15-6a000073fc60\"}, {\"name\": \"16GB\", \"y\": [675, 660, 695, 749, 764, 700, 660, 679, 715, 680, 670, 210, 150, 160, 150, 165, 570, 535, 545, 530, 630, 560, 620, 585, 530, 550, 505, 490, 500, 465, 515, 540, 465, 465, 540, 515, 472, 539, 479, 490, 485, 170, 230, 265, 260, 250, 265, 299, 230, 230, 250, 190, 210, 185, 235, 249, 220, 255, 190, 220], \"type\": \"box\", \"uid\": \"3c6d2f30-c696-11e8-99fc-6a000073fc60\"}, {\"name\": \"256GB\", \"y\": [140, 185, 185, 330, 465, 399, 384, 395, 295, 310, 310, 300, 399, 223], \"type\": \"box\", \"uid\": \"3c6d2fe4-c696-11e8-88f2-6a000073fc60\"}, {\"name\": \"128GB\", \"y\": [259, 210, 210, 189, 149, 145, 155, 275, 252, 285, 255, 175], \"type\": \"box\", \"uid\": \"3c6d3086-c696-11e8-b63f-6a000073fc60\"}, {\"name\": \"32GB\", \"y\": [115, 119, 120, 104, 104, 220, 270, 240, 218, 235, 249, 210, 205, 155, 184, 175, 175, 125, 198, 189], \"type\": \"box\", \"uid\": \"3c6d311a-c696-11e8-9651-6a000073fc60\"}], {\"font\": {\"size\": 16}, \"title\": \"Memory Size Box Plots\"}, {\"showLink\": true, \"linkText\": \"Export to plot.ly\"})});</script>"
      ],
      "text/vnd.plotly.v1+html": [
       "<div id=\"4604c77d-9607-48d3-a412-f68dfbc4e9cd\" style=\"height: 525px; width: 100%;\" class=\"plotly-graph-div\"></div><script type=\"text/javascript\">require([\"plotly\"], function(Plotly) { window.PLOTLYENV=window.PLOTLYENV || {};window.PLOTLYENV.BASE_URL=\"https://plot.ly\";Plotly.newPlot(\"4604c77d-9607-48d3-a412-f68dfbc4e9cd\", [{\"name\": \"64GB\", \"y\": [690, 690, 735, 765, 850, 750, 750, 750, 700, 640, 600, 775, 640, 500, 450, 570, 580, 580], \"type\": \"box\", \"uid\": \"3c6d2de6-c696-11e8-ac15-6a000073fc60\"}, {\"name\": \"16GB\", \"y\": [675, 660, 695, 749, 764, 700, 660, 679, 715, 680, 670, 210, 150, 160, 150, 165, 570, 535, 545, 530, 630, 560, 620, 585, 530, 550, 505, 490, 500, 465, 515, 540, 465, 465, 540, 515, 472, 539, 479, 490, 485, 170, 230, 265, 260, 250, 265, 299, 230, 230, 250, 190, 210, 185, 235, 249, 220, 255, 190, 220], \"type\": \"box\", \"uid\": \"3c6d2f30-c696-11e8-99fc-6a000073fc60\"}, {\"name\": \"256GB\", \"y\": [140, 185, 185, 330, 465, 399, 384, 395, 295, 310, 310, 300, 399, 223], \"type\": \"box\", \"uid\": \"3c6d2fe4-c696-11e8-88f2-6a000073fc60\"}, {\"name\": \"128GB\", \"y\": [259, 210, 210, 189, 149, 145, 155, 275, 252, 285, 255, 175], \"type\": \"box\", \"uid\": \"3c6d3086-c696-11e8-b63f-6a000073fc60\"}, {\"name\": \"32GB\", \"y\": [115, 119, 120, 104, 104, 220, 270, 240, 218, 235, 249, 210, 205, 155, 184, 175, 175, 125, 198, 189], \"type\": \"box\", \"uid\": \"3c6d311a-c696-11e8-9651-6a000073fc60\"}], {\"font\": {\"size\": 16}, \"title\": \"Memory Size Box Plots\"}, {\"showLink\": true, \"linkText\": \"Export to plot.ly\"})});</script>"
      ]
     },
     "metadata": {},
     "output_type": "display_data"
    }
   ],
   "source": [
    "data_box_size = []\n",
    "traces_sizes, unique_sizes = generate_traces(iphone_df,'Size')\n",
    "i = 0\n",
    "for trace in traces_sizes:\n",
    "    data_box_size.append(go.Box( y= trace,name=size_str[i]))\n",
    "    i+=1\n",
    "iplot({'data':data_box_size, 'layout':{'title': 'Memory Size Box Plots',\n",
    "                          'font': dict(size=16)}}, filename='basic-bar')"
   ]
  },
  {
   "cell_type": "code",
   "execution_count": 12,
   "metadata": {},
   "outputs": [
    {
     "name": "stdout",
     "output_type": "stream",
     "text": [
      "Good            63\n",
      "Mint            50\n",
      "Fair             6\n",
      "New (Resale)     5\n",
      "Name: Condition, dtype: int64\n"
     ]
    }
   ],
   "source": [
    "condition = iphone_df['Condition'].value_counts()\n",
    "print(condition)"
   ]
  },
  {
   "cell_type": "code",
   "execution_count": 13,
   "metadata": {},
   "outputs": [
    {
     "data": {
      "application/vnd.plotly.v1+json": {
       "data": [
        {
         "type": "bar",
         "uid": "3c72fe92-c696-11e8-a49a-6a000073fc60",
         "x": [
          "Good",
          "Mint",
          "Fair",
          "New (Resale)"
         ],
         "y": [
          63,
          50,
          6,
          5
         ]
        }
       ],
       "layout": {
        "font": {
         "size": 16
        },
        "title": "Phone Condition Distribution"
       }
      },
      "text/html": [
       "<div id=\"608ba5ca-0d36-4e4a-9e64-a36ab60f00c2\" style=\"height: 525px; width: 100%;\" class=\"plotly-graph-div\"></div><script type=\"text/javascript\">require([\"plotly\"], function(Plotly) { window.PLOTLYENV=window.PLOTLYENV || {};window.PLOTLYENV.BASE_URL=\"https://plot.ly\";Plotly.newPlot(\"608ba5ca-0d36-4e4a-9e64-a36ab60f00c2\", [{\"x\": [\"Good\", \"Mint\", \"Fair\", \"New (Resale)\"], \"y\": [63, 50, 6, 5], \"type\": \"bar\", \"uid\": \"3c76943a-c696-11e8-9446-6a000073fc60\"}], {\"font\": {\"size\": 16}, \"title\": \"Phone Condition Distribution\"}, {\"showLink\": true, \"linkText\": \"Export to plot.ly\"})});</script>"
      ],
      "text/vnd.plotly.v1+html": [
       "<div id=\"608ba5ca-0d36-4e4a-9e64-a36ab60f00c2\" style=\"height: 525px; width: 100%;\" class=\"plotly-graph-div\"></div><script type=\"text/javascript\">require([\"plotly\"], function(Plotly) { window.PLOTLYENV=window.PLOTLYENV || {};window.PLOTLYENV.BASE_URL=\"https://plot.ly\";Plotly.newPlot(\"608ba5ca-0d36-4e4a-9e64-a36ab60f00c2\", [{\"x\": [\"Good\", \"Mint\", \"Fair\", \"New (Resale)\"], \"y\": [63, 50, 6, 5], \"type\": \"bar\", \"uid\": \"3c76943a-c696-11e8-9446-6a000073fc60\"}], {\"font\": {\"size\": 16}, \"title\": \"Phone Condition Distribution\"}, {\"showLink\": true, \"linkText\": \"Export to plot.ly\"})});</script>"
      ]
     },
     "metadata": {},
     "output_type": "display_data"
    }
   ],
   "source": [
    "data_condition = [go.Bar(\n",
    "            x=list(condition.index),\n",
    "            y=list(condition)\n",
    "    )]\n",
    "\n",
    "iplot({'data':data_condition, 'layout':{'title': 'Phone Condition Distribution',\n",
    "                          'font': dict(size=16)}}, filename='basic-bar')"
   ]
  },
  {
   "cell_type": "code",
   "execution_count": 14,
   "metadata": {},
   "outputs": [
    {
     "data": {
      "application/vnd.plotly.v1+json": {
       "data": [
        {
         "name": "Mint",
         "type": "box",
         "uid": "3c7d0446-c696-11e8-a4fc-6a000073fc60",
         "y": [
          690,
          675,
          690,
          735,
          695,
          765,
          850,
          749,
          764,
          700,
          660,
          679,
          715,
          680,
          670,
          210,
          259,
          210,
          210,
          189,
          150,
          640,
          570,
          545,
          775,
          620,
          585,
          530,
          640,
          550,
          505,
          500,
          540,
          450,
          570,
          580,
          580,
          490,
          485,
          399,
          395,
          310,
          310,
          300,
          299,
          249,
          184,
          175,
          198,
          189
         ]
        },
        {
         "name": "Good",
         "type": "box",
         "uid": "3c7d05b8-c696-11e8-863b-6a000073fc60",
         "y": [
          660,
          750,
          750,
          750,
          700,
          140,
          115,
          185,
          185,
          149,
          150,
          119,
          160,
          145,
          155,
          165,
          104,
          535,
          530,
          600,
          560,
          490,
          465,
          465,
          465,
          515,
          500,
          479,
          465,
          384,
          275,
          252,
          285,
          170,
          220,
          270,
          265,
          260,
          250,
          265,
          240,
          230,
          230,
          255,
          235,
          399,
          250,
          190,
          210,
          210,
          205,
          185,
          235,
          223,
          249,
          155,
          220,
          255,
          175,
          190,
          125,
          220,
          175
         ]
        },
        {
         "name": "Fair",
         "type": "box",
         "uid": "3c7d0676-c696-11e8-89d2-6a000073fc60",
         "y": [
          120,
          104,
          330,
          295,
          230,
          218
         ]
        },
        {
         "name": "New (Resale)",
         "type": "box",
         "uid": "3c7d071e-c696-11e8-a599-6a000073fc60",
         "y": [
          630,
          515,
          540,
          472,
          539
         ]
        }
       ],
       "layout": {
        "font": {
         "size": 16
        },
        "title": "Phone Condition Box Plots"
       }
      },
      "text/html": [
       "<div id=\"e67b18d7-b544-4435-8831-b7620e914c55\" style=\"height: 525px; width: 100%;\" class=\"plotly-graph-div\"></div><script type=\"text/javascript\">require([\"plotly\"], function(Plotly) { window.PLOTLYENV=window.PLOTLYENV || {};window.PLOTLYENV.BASE_URL=\"https://plot.ly\";Plotly.newPlot(\"e67b18d7-b544-4435-8831-b7620e914c55\", [{\"name\": \"Mint\", \"y\": [690, 675, 690, 735, 695, 765, 850, 749, 764, 700, 660, 679, 715, 680, 670, 210, 259, 210, 210, 189, 150, 640, 570, 545, 775, 620, 585, 530, 640, 550, 505, 500, 540, 450, 570, 580, 580, 490, 485, 399, 395, 310, 310, 300, 299, 249, 184, 175, 198, 189], \"type\": \"box\", \"uid\": \"3c80ea70-c696-11e8-a7e3-6a000073fc60\"}, {\"name\": \"Good\", \"y\": [660, 750, 750, 750, 700, 140, 115, 185, 185, 149, 150, 119, 160, 145, 155, 165, 104, 535, 530, 600, 560, 490, 465, 465, 465, 515, 500, 479, 465, 384, 275, 252, 285, 170, 220, 270, 265, 260, 250, 265, 240, 230, 230, 255, 235, 399, 250, 190, 210, 210, 205, 185, 235, 223, 249, 155, 220, 255, 175, 190, 125, 220, 175], \"type\": \"box\", \"uid\": \"3c80ebec-c696-11e8-91d1-6a000073fc60\"}, {\"name\": \"Fair\", \"y\": [120, 104, 330, 295, 230, 218], \"type\": \"box\", \"uid\": \"3c80eca8-c696-11e8-b28d-6a000073fc60\"}, {\"name\": \"New (Resale)\", \"y\": [630, 515, 540, 472, 539], \"type\": \"box\", \"uid\": \"3c80ed54-c696-11e8-b29e-6a000073fc60\"}], {\"font\": {\"size\": 16}, \"title\": \"Phone Condition Box Plots\"}, {\"showLink\": true, \"linkText\": \"Export to plot.ly\"})});</script>"
      ],
      "text/vnd.plotly.v1+html": [
       "<div id=\"e67b18d7-b544-4435-8831-b7620e914c55\" style=\"height: 525px; width: 100%;\" class=\"plotly-graph-div\"></div><script type=\"text/javascript\">require([\"plotly\"], function(Plotly) { window.PLOTLYENV=window.PLOTLYENV || {};window.PLOTLYENV.BASE_URL=\"https://plot.ly\";Plotly.newPlot(\"e67b18d7-b544-4435-8831-b7620e914c55\", [{\"name\": \"Mint\", \"y\": [690, 675, 690, 735, 695, 765, 850, 749, 764, 700, 660, 679, 715, 680, 670, 210, 259, 210, 210, 189, 150, 640, 570, 545, 775, 620, 585, 530, 640, 550, 505, 500, 540, 450, 570, 580, 580, 490, 485, 399, 395, 310, 310, 300, 299, 249, 184, 175, 198, 189], \"type\": \"box\", \"uid\": \"3c80ea70-c696-11e8-a7e3-6a000073fc60\"}, {\"name\": \"Good\", \"y\": [660, 750, 750, 750, 700, 140, 115, 185, 185, 149, 150, 119, 160, 145, 155, 165, 104, 535, 530, 600, 560, 490, 465, 465, 465, 515, 500, 479, 465, 384, 275, 252, 285, 170, 220, 270, 265, 260, 250, 265, 240, 230, 230, 255, 235, 399, 250, 190, 210, 210, 205, 185, 235, 223, 249, 155, 220, 255, 175, 190, 125, 220, 175], \"type\": \"box\", \"uid\": \"3c80ebec-c696-11e8-91d1-6a000073fc60\"}, {\"name\": \"Fair\", \"y\": [120, 104, 330, 295, 230, 218], \"type\": \"box\", \"uid\": \"3c80eca8-c696-11e8-b28d-6a000073fc60\"}, {\"name\": \"New (Resale)\", \"y\": [630, 515, 540, 472, 539], \"type\": \"box\", \"uid\": \"3c80ed54-c696-11e8-b29e-6a000073fc60\"}], {\"font\": {\"size\": 16}, \"title\": \"Phone Condition Box Plots\"}, {\"showLink\": true, \"linkText\": \"Export to plot.ly\"})});</script>"
      ]
     },
     "metadata": {},
     "output_type": "display_data"
    }
   ],
   "source": [
    "data_box_condition = []\n",
    "traces_condition, unique_conditions = generate_traces(iphone_df,'Condition')\n",
    "i = 0\n",
    "for trace in traces_condition:\n",
    "    data_box_condition.append(go.Box( y= trace,name=unique_conditions[i]))\n",
    "    i+=1\n",
    "iplot({'data':data_box_condition, 'layout':{'title': 'Phone Condition Box Plots',\n",
    "                          'font': dict(size=16)}}, filename='basic-bar')"
   ]
  },
  {
   "cell_type": "code",
   "execution_count": 15,
   "metadata": {},
   "outputs": [
    {
     "name": "stdout",
     "output_type": "stream",
     "text": [
      "Good            63\n",
      "Mint            50\n",
      "Fair             6\n",
      "New (Resale)     5\n",
      "Name: Condition, dtype: int64\n"
     ]
    }
   ],
   "source": [
    "carrier = iphone_df['Carrier'].value_counts()\n",
    "print(condition)"
   ]
  },
  {
   "cell_type": "code",
   "execution_count": 16,
   "metadata": {},
   "outputs": [
    {
     "data": {
      "application/vnd.plotly.v1+json": {
       "data": [
        {
         "type": "bar",
         "uid": "3c86c206-c696-11e8-8437-6a000073fc60",
         "x": [
          "att",
          "sprint",
          "verizon",
          "tmobile"
         ],
         "y": [
          40,
          30,
          30,
          24
         ]
        }
       ],
       "layout": {
        "font": {
         "size": 16
        },
        "title": "Phone Carrier Distribution"
       }
      },
      "text/html": [
       "<div id=\"76cbb630-6a1e-4fa4-bf0a-01c77a486260\" style=\"height: 525px; width: 100%;\" class=\"plotly-graph-div\"></div><script type=\"text/javascript\">require([\"plotly\"], function(Plotly) { window.PLOTLYENV=window.PLOTLYENV || {};window.PLOTLYENV.BASE_URL=\"https://plot.ly\";Plotly.newPlot(\"76cbb630-6a1e-4fa4-bf0a-01c77a486260\", [{\"x\": [\"att\", \"sprint\", \"verizon\", \"tmobile\"], \"y\": [40, 30, 30, 24], \"type\": \"bar\", \"uid\": \"3c8a5f2e-c696-11e8-ab4b-6a000073fc60\"}], {\"font\": {\"size\": 16}, \"title\": \"Phone Carrier Distribution\"}, {\"showLink\": true, \"linkText\": \"Export to plot.ly\"})});</script>"
      ],
      "text/vnd.plotly.v1+html": [
       "<div id=\"76cbb630-6a1e-4fa4-bf0a-01c77a486260\" style=\"height: 525px; width: 100%;\" class=\"plotly-graph-div\"></div><script type=\"text/javascript\">require([\"plotly\"], function(Plotly) { window.PLOTLYENV=window.PLOTLYENV || {};window.PLOTLYENV.BASE_URL=\"https://plot.ly\";Plotly.newPlot(\"76cbb630-6a1e-4fa4-bf0a-01c77a486260\", [{\"x\": [\"att\", \"sprint\", \"verizon\", \"tmobile\"], \"y\": [40, 30, 30, 24], \"type\": \"bar\", \"uid\": \"3c8a5f2e-c696-11e8-ab4b-6a000073fc60\"}], {\"font\": {\"size\": 16}, \"title\": \"Phone Carrier Distribution\"}, {\"showLink\": true, \"linkText\": \"Export to plot.ly\"})});</script>"
      ]
     },
     "metadata": {},
     "output_type": "display_data"
    }
   ],
   "source": [
    "data_carrier = [go.Bar(\n",
    "            x=list(carrier.index),\n",
    "            y=list(carrier)\n",
    "    )]\n",
    "\n",
    "iplot({'data':data_carrier, 'layout':{'title': 'Phone Carrier Distribution',\n",
    "                          'font': dict(size=16)}}, filename='basic-bar')"
   ]
  },
  {
   "cell_type": "code",
   "execution_count": 17,
   "metadata": {},
   "outputs": [
    {
     "data": {
      "application/vnd.plotly.v1+json": {
       "data": [
        {
         "name": "verizon",
         "type": "box",
         "uid": "3c90b342-c696-11e8-b236-6a000073fc60",
         "y": [
          690,
          675,
          660,
          690,
          735,
          140,
          210,
          259,
          210,
          210,
          640,
          570,
          535,
          545,
          530,
          490,
          500,
          465,
          515,
          540,
          170,
          220,
          270,
          230,
          310,
          190,
          210,
          210,
          205,
          185
         ]
        },
        {
         "name": "att",
         "type": "box",
         "uid": "3c90b5c2-c696-11e8-9a26-6a000073fc60",
         "y": [
          695,
          765,
          850,
          749,
          750,
          115,
          185,
          189,
          185,
          149,
          630,
          600,
          560,
          775,
          620,
          465,
          465,
          540,
          515,
          500,
          330,
          465,
          399,
          384,
          395,
          295,
          275,
          252,
          310,
          285,
          265,
          260,
          250,
          300,
          265,
          235,
          223,
          249,
          155,
          184
         ]
        },
        {
         "name": "tmobile",
         "type": "box",
         "uid": "3c90b680-c696-11e8-8566-6a000073fc60",
         "y": [
          764,
          750,
          750,
          700,
          660,
          150,
          119,
          160,
          120,
          145,
          472,
          539,
          450,
          479,
          240,
          299,
          230,
          230,
          218,
          175,
          220,
          255,
          175,
          190
         ]
        },
        {
         "name": "sprint",
         "type": "box",
         "uid": "3c90b71e-c696-11e8-9eb3-6a000073fc60",
         "y": [
          679,
          715,
          680,
          670,
          700,
          104,
          150,
          155,
          165,
          104,
          585,
          530,
          640,
          550,
          505,
          570,
          580,
          580,
          490,
          485,
          255,
          235,
          249,
          399,
          250,
          125,
          198,
          220,
          175,
          189
         ]
        }
       ],
       "layout": {
        "font": {
         "size": 16
        },
        "title": "Phone Carrier Box Plots"
       }
      },
      "text/html": [
       "<div id=\"e9444ba2-5525-4123-a41f-6b2e8b791e2f\" style=\"height: 525px; width: 100%;\" class=\"plotly-graph-div\"></div><script type=\"text/javascript\">require([\"plotly\"], function(Plotly) { window.PLOTLYENV=window.PLOTLYENV || {};window.PLOTLYENV.BASE_URL=\"https://plot.ly\";Plotly.newPlot(\"e9444ba2-5525-4123-a41f-6b2e8b791e2f\", [{\"name\": \"verizon\", \"y\": [690, 675, 660, 690, 735, 140, 210, 259, 210, 210, 640, 570, 535, 545, 530, 490, 500, 465, 515, 540, 170, 220, 270, 230, 310, 190, 210, 210, 205, 185], \"type\": \"box\", \"uid\": \"3c94d54c-c696-11e8-b2a5-6a000073fc60\"}, {\"name\": \"att\", \"y\": [695, 765, 850, 749, 750, 115, 185, 189, 185, 149, 630, 600, 560, 775, 620, 465, 465, 540, 515, 500, 330, 465, 399, 384, 395, 295, 275, 252, 310, 285, 265, 260, 250, 300, 265, 235, 223, 249, 155, 184], \"type\": \"box\", \"uid\": \"3c94d6ca-c696-11e8-9192-6a000073fc60\"}, {\"name\": \"tmobile\", \"y\": [764, 750, 750, 700, 660, 150, 119, 160, 120, 145, 472, 539, 450, 479, 240, 299, 230, 230, 218, 175, 220, 255, 175, 190], \"type\": \"box\", \"uid\": \"3c94d77e-c696-11e8-965f-6a000073fc60\"}, {\"name\": \"sprint\", \"y\": [679, 715, 680, 670, 700, 104, 150, 155, 165, 104, 585, 530, 640, 550, 505, 570, 580, 580, 490, 485, 255, 235, 249, 399, 250, 125, 198, 220, 175, 189], \"type\": \"box\", \"uid\": \"3c94d814-c696-11e8-917f-6a000073fc60\"}], {\"font\": {\"size\": 16}, \"title\": \"Phone Carrier Box Plots\"}, {\"showLink\": true, \"linkText\": \"Export to plot.ly\"})});</script>"
      ],
      "text/vnd.plotly.v1+html": [
       "<div id=\"e9444ba2-5525-4123-a41f-6b2e8b791e2f\" style=\"height: 525px; width: 100%;\" class=\"plotly-graph-div\"></div><script type=\"text/javascript\">require([\"plotly\"], function(Plotly) { window.PLOTLYENV=window.PLOTLYENV || {};window.PLOTLYENV.BASE_URL=\"https://plot.ly\";Plotly.newPlot(\"e9444ba2-5525-4123-a41f-6b2e8b791e2f\", [{\"name\": \"verizon\", \"y\": [690, 675, 660, 690, 735, 140, 210, 259, 210, 210, 640, 570, 535, 545, 530, 490, 500, 465, 515, 540, 170, 220, 270, 230, 310, 190, 210, 210, 205, 185], \"type\": \"box\", \"uid\": \"3c94d54c-c696-11e8-b2a5-6a000073fc60\"}, {\"name\": \"att\", \"y\": [695, 765, 850, 749, 750, 115, 185, 189, 185, 149, 630, 600, 560, 775, 620, 465, 465, 540, 515, 500, 330, 465, 399, 384, 395, 295, 275, 252, 310, 285, 265, 260, 250, 300, 265, 235, 223, 249, 155, 184], \"type\": \"box\", \"uid\": \"3c94d6ca-c696-11e8-9192-6a000073fc60\"}, {\"name\": \"tmobile\", \"y\": [764, 750, 750, 700, 660, 150, 119, 160, 120, 145, 472, 539, 450, 479, 240, 299, 230, 230, 218, 175, 220, 255, 175, 190], \"type\": \"box\", \"uid\": \"3c94d77e-c696-11e8-965f-6a000073fc60\"}, {\"name\": \"sprint\", \"y\": [679, 715, 680, 670, 700, 104, 150, 155, 165, 104, 585, 530, 640, 550, 505, 570, 580, 580, 490, 485, 255, 235, 249, 399, 250, 125, 198, 220, 175, 189], \"type\": \"box\", \"uid\": \"3c94d814-c696-11e8-917f-6a000073fc60\"}], {\"font\": {\"size\": 16}, \"title\": \"Phone Carrier Box Plots\"}, {\"showLink\": true, \"linkText\": \"Export to plot.ly\"})});</script>"
      ]
     },
     "metadata": {},
     "output_type": "display_data"
    }
   ],
   "source": [
    "data_box_carrier = []\n",
    "traces_carriers, unique_carriers = generate_traces(iphone_df,'Carrier')\n",
    "i = 0\n",
    "for trace in traces_carriers:\n",
    "    data_box_carrier.append(go.Box( y= trace,name=unique_carriers[i]))\n",
    "    i+=1\n",
    "iplot({'data':data_box_carrier, 'layout':{'title': 'Phone Carrier Box Plots',\n",
    "                          'font': dict(size=16)}}, filename='basic-bar')"
   ]
  },
  {
   "cell_type": "markdown",
   "metadata": {},
   "source": [
    "## One Hot Encoding All Categorical Variables"
   ]
  },
  {
   "cell_type": "code",
   "execution_count": 18,
   "metadata": {},
   "outputs": [],
   "source": [
    "def bin_multi_label(dataframe,column_name):\n",
    "    data_ = dataframe[column_name].value_counts()\n",
    "\n",
    "    list_ = [[i] for i in list(dataframe[column_name])]\n",
    "\n",
    "    one_hot = MultiLabelBinarizer()\n",
    "    one_hot.fit([list(data_.index)]) \n",
    "    one_hot_data_= one_hot.transform(list_)\n",
    "\n",
    "    print(\"Model Classes:\", one_hot.classes_)\n",
    "    model_df = pd.DataFrame(one_hot_data_,columns = one_hot.classes_)\n",
    "    #print(model_df.head(10))\n",
    "    print(\"Shape is:\",model_df.shape)\n",
    "    print(\"\\n\")\n",
    "    return one_hot, model_df"
   ]
  },
  {
   "cell_type": "code",
   "execution_count": 19,
   "metadata": {},
   "outputs": [
    {
     "name": "stdout",
     "output_type": "stream",
     "text": [
      "Model Classes: ['apple-iphone-6s' 'apple-iphone-6s-plus' 'apple-iphone-7-a1660'\n",
      " 'apple-iphone-7-plus-a1661' 'apple-iphone-8-a1863'\n",
      " 'apple-iphone-8-plus-a1864' 'apple-iphone-se' 'apple-iphone-x-a1865']\n",
      "Shape is: (124, 8)\n",
      "\n",
      "\n",
      "Model Classes: ['Black' 'Gold' 'Gray' 'Grey' 'Red' 'Rose Gold' 'Silver']\n",
      "Shape is: (124, 7)\n",
      "\n",
      "\n",
      "Model Classes: ['att' 'sprint' 'tmobile' 'verizon']\n",
      "Shape is: (124, 4)\n",
      "\n",
      "\n",
      "Model Classes: ['Fair' 'Good' 'Mint' 'New (Resale)']\n",
      "Shape is: (124, 4)\n",
      "\n",
      "\n"
     ]
    }
   ],
   "source": [
    "mlb_model,model_df = bin_multi_label(iphone_df,'Phone Model')\n",
    "mlb_color,color_df = bin_multi_label(iphone_df,'Color')\n",
    "mlb_carrier,carrier_df = bin_multi_label(iphone_df,'Carrier')\n",
    "mlb_condition,condition_df = bin_multi_label(iphone_df,'Condition')"
   ]
  },
  {
   "cell_type": "code",
   "execution_count": 20,
   "metadata": {
    "scrolled": true
   },
   "outputs": [
    {
     "name": "stdout",
     "output_type": "stream",
     "text": [
      "Index(['apple-iphone-6s', 'apple-iphone-6s-plus', 'apple-iphone-7-a1660',\n",
      "       'apple-iphone-7-plus-a1661', 'apple-iphone-8-a1863',\n",
      "       'apple-iphone-8-plus-a1864', 'apple-iphone-se', 'apple-iphone-x-a1865',\n",
      "       'att', 'sprint', 'tmobile', 'verizon', 'Fair', 'Good', 'Mint',\n",
      "       'New (Resale)', 'Black', 'Gold', 'Gray', 'Grey', 'Red', 'Rose Gold',\n",
      "       'Silver', 'Size', 'Recently Sold Price'],\n",
      "      dtype='object')\n",
      "(124, 25)\n"
     ]
    }
   ],
   "source": [
    "#model_df.reset_index(drop=True, inplace=True)\n",
    "#carrier_df.reset_index(drop=True, inplace=True)\n",
    "data_encoded = pd.concat([model_df,carrier_df,condition_df,color_df,iphone_df['Size'],iphone_df['Recently Sold Price']], axis=1,sort=False)\n",
    "print(data_encoded.columns)\n",
    "print(data_encoded.shape)"
   ]
  },
  {
   "cell_type": "code",
   "execution_count": 21,
   "metadata": {},
   "outputs": [],
   "source": [
    "#file_name = \"data_encoded.csv\"\n",
    "#data_encoded.to_csv(file_name, encoding='utf-8', index=False)"
   ]
  },
  {
   "cell_type": "code",
   "execution_count": 22,
   "metadata": {},
   "outputs": [],
   "source": [
    "def undo_mlb_transform(mlb, data_array):\n",
    "    data_array = [[i] for i in data_array]\n",
    "    undid = mlb.inverse_transform(np.transpose(data_array))\n",
    "    return undid[0][0]"
   ]
  },
  {
   "cell_type": "code",
   "execution_count": 23,
   "metadata": {},
   "outputs": [],
   "source": [
    "pickle.dump(mlb_model, open('mlb_model.sav', 'wb'))\n",
    "pickle.dump(mlb_color, open('mlb_color.sav', 'wb'))\n",
    "pickle.dump(mlb_carrier, open('mlb_carrier.sav', 'wb'))\n",
    "pickle.dump(mlb_condition, open('mlb_condition.sav', 'wb'))"
   ]
  },
  {
   "cell_type": "code",
   "execution_count": null,
   "metadata": {},
   "outputs": [],
   "source": []
  }
 ],
 "metadata": {
  "kernelspec": {
   "display_name": "Python 3",
   "language": "python",
   "name": "python3"
  },
  "language_info": {
   "codemirror_mode": {
    "name": "ipython",
    "version": 3
   },
   "file_extension": ".py",
   "mimetype": "text/x-python",
   "name": "python",
   "nbconvert_exporter": "python",
   "pygments_lexer": "ipython3",
   "version": "3.6.5"
  }
 },
 "nbformat": 4,
 "nbformat_minor": 2
}
