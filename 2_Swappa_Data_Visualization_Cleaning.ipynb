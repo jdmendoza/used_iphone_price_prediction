{
 "cells": [
  {
   "cell_type": "code",
   "execution_count": 18,
   "metadata": {},
   "outputs": [
    {
     "data": {
      "text/html": [
       "<script>requirejs.config({paths: { 'plotly': ['https://cdn.plot.ly/plotly-latest.min']},});if(!window.Plotly) {{require(['plotly'],function(plotly) {window.Plotly=plotly;});}}</script>"
      ],
      "text/vnd.plotly.v1+html": [
       "<script>requirejs.config({paths: { 'plotly': ['https://cdn.plot.ly/plotly-latest.min']},});if(!window.Plotly) {{require(['plotly'],function(plotly) {window.Plotly=plotly;});}}</script>"
      ]
     },
     "metadata": {},
     "output_type": "display_data"
    }
   ],
   "source": [
    "#Convert Grey -> Gray\n",
    "import pandas as pd\n",
    "import numpy as np\n",
    "import pickle\n",
    "\n",
    "from plotly import __version__\n",
    "from plotly.offline import download_plotlyjs, init_notebook_mode, plot, iplot\n",
    "import plotly.graph_objs as go\n",
    "\n",
    "from sklearn.preprocessing import MultiLabelBinarizer\n",
    "\n",
    "\n",
    "init_notebook_mode(connected=True)"
   ]
  },
  {
   "cell_type": "code",
   "execution_count": 2,
   "metadata": {},
   "outputs": [],
   "source": [
    "file_name = \"iphone_df.csv\"\n",
    "iphone_df = pd.read_csv(file_name)"
   ]
  },
  {
   "cell_type": "code",
   "execution_count": 3,
   "metadata": {},
   "outputs": [
    {
     "data": {
      "text/plain": [
       "Index(['Phone Model', 'Carrier', 'Condition', 'Color', 'Size',\n",
       "       'Recently Sold Price'],\n",
       "      dtype='object')"
      ]
     },
     "execution_count": 3,
     "metadata": {},
     "output_type": "execute_result"
    }
   ],
   "source": [
    "iphone_df.columns"
   ]
  },
  {
   "cell_type": "code",
   "execution_count": 4,
   "metadata": {},
   "outputs": [
    {
     "data": {
      "text/plain": [
       "[33, 27, 21, 17, 16, 8, 2]"
      ]
     },
     "execution_count": 4,
     "metadata": {},
     "output_type": "execute_result"
    }
   ],
   "source": [
    "colors = iphone_df['Color'].value_counts()\n",
    "list(colors)"
   ]
  },
  {
   "cell_type": "code",
   "execution_count": 23,
   "metadata": {},
   "outputs": [
    {
     "data": {
      "application/vnd.plotly.v1+json": {
       "data": [
        {
         "type": "bar",
         "uid": "bef79524-c684-11e8-8383-6a000073fc60",
         "x": [
          "Gray",
          "Grey",
          "Silver",
          "Gold",
          "Rose Gold",
          "Black",
          "Red"
         ],
         "y": [
          33,
          27,
          21,
          17,
          16,
          8,
          2
         ]
        }
       ],
       "layout": {
        "font": {
         "size": 16
        },
        "title": "Color Distribution"
       }
      },
      "text/html": [
       "<div id=\"d8fe4c5b-783a-49d8-8147-6f3dd6852f11\" style=\"height: 525px; width: 100%;\" class=\"plotly-graph-div\"></div><script type=\"text/javascript\">require([\"plotly\"], function(Plotly) { window.PLOTLYENV=window.PLOTLYENV || {};window.PLOTLYENV.BASE_URL=\"https://plot.ly\";Plotly.newPlot(\"d8fe4c5b-783a-49d8-8147-6f3dd6852f11\", [{\"x\": [\"Gray\", \"Grey\", \"Silver\", \"Gold\", \"Rose Gold\", \"Black\", \"Red\"], \"y\": [33, 27, 21, 17, 16, 8, 2], \"type\": \"bar\", \"uid\": \"befae922-c684-11e8-8cbb-6a000073fc60\"}], {\"font\": {\"size\": 16}, \"title\": \"Color Distribution\"}, {\"showLink\": true, \"linkText\": \"Export to plot.ly\"})});</script>"
      ],
      "text/vnd.plotly.v1+html": [
       "<div id=\"d8fe4c5b-783a-49d8-8147-6f3dd6852f11\" style=\"height: 525px; width: 100%;\" class=\"plotly-graph-div\"></div><script type=\"text/javascript\">require([\"plotly\"], function(Plotly) { window.PLOTLYENV=window.PLOTLYENV || {};window.PLOTLYENV.BASE_URL=\"https://plot.ly\";Plotly.newPlot(\"d8fe4c5b-783a-49d8-8147-6f3dd6852f11\", [{\"x\": [\"Gray\", \"Grey\", \"Silver\", \"Gold\", \"Rose Gold\", \"Black\", \"Red\"], \"y\": [33, 27, 21, 17, 16, 8, 2], \"type\": \"bar\", \"uid\": \"befae922-c684-11e8-8cbb-6a000073fc60\"}], {\"font\": {\"size\": 16}, \"title\": \"Color Distribution\"}, {\"showLink\": true, \"linkText\": \"Export to plot.ly\"})});</script>"
      ]
     },
     "metadata": {},
     "output_type": "display_data"
    }
   ],
   "source": [
    "data_color = [go.Bar(\n",
    "            x=list(colors.index),\n",
    "            y=list(colors)\n",
    "    )]\n",
    "\n",
    "iplot({'data':data_color, 'layout':{'title': 'Color Distribution',\n",
    "                          'font': dict(size=16)}}, filename='basic-bar')"
   ]
  },
  {
   "cell_type": "code",
   "execution_count": 21,
   "metadata": {},
   "outputs": [
    {
     "name": "stdout",
     "output_type": "stream",
     "text": [
      "['64GB', '16GB', '256GB', '128GB', '32GB']\n"
     ]
    }
   ],
   "source": [
    "size = iphone_df['Size'].value_counts()\n",
    "size_str = [str(i)+'GB' for i in size.index]\n",
    "print(size_str)"
   ]
  },
  {
   "cell_type": "code",
   "execution_count": 25,
   "metadata": {},
   "outputs": [
    {
     "data": {
      "application/vnd.plotly.v1+json": {
       "data": [
        {
         "type": "bar",
         "uid": "d2401e58-c684-11e8-8cb1-6a000073fc60",
         "x": [
          "64GB",
          "16GB",
          "256GB",
          "128GB",
          "32GB"
         ],
         "y": [
          60,
          20,
          18,
          14,
          12
         ]
        }
       ],
       "layout": {
        "font": {
         "size": 16
        },
        "title": "Memory Size Distribution"
       }
      },
      "text/html": [
       "<div id=\"064f566f-3e94-4cfb-b34b-85b03863fa84\" style=\"height: 525px; width: 100%;\" class=\"plotly-graph-div\"></div><script type=\"text/javascript\">require([\"plotly\"], function(Plotly) { window.PLOTLYENV=window.PLOTLYENV || {};window.PLOTLYENV.BASE_URL=\"https://plot.ly\";Plotly.newPlot(\"064f566f-3e94-4cfb-b34b-85b03863fa84\", [{\"x\": [\"64GB\", \"16GB\", \"256GB\", \"128GB\", \"32GB\"], \"y\": [60, 20, 18, 14, 12], \"type\": \"bar\", \"uid\": \"d2434c36-c684-11e8-988f-6a000073fc60\"}], {\"font\": {\"size\": 16}, \"title\": \"Memory Size Distribution\"}, {\"showLink\": true, \"linkText\": \"Export to plot.ly\"})});</script>"
      ],
      "text/vnd.plotly.v1+html": [
       "<div id=\"064f566f-3e94-4cfb-b34b-85b03863fa84\" style=\"height: 525px; width: 100%;\" class=\"plotly-graph-div\"></div><script type=\"text/javascript\">require([\"plotly\"], function(Plotly) { window.PLOTLYENV=window.PLOTLYENV || {};window.PLOTLYENV.BASE_URL=\"https://plot.ly\";Plotly.newPlot(\"064f566f-3e94-4cfb-b34b-85b03863fa84\", [{\"x\": [\"64GB\", \"16GB\", \"256GB\", \"128GB\", \"32GB\"], \"y\": [60, 20, 18, 14, 12], \"type\": \"bar\", \"uid\": \"d2434c36-c684-11e8-988f-6a000073fc60\"}], {\"font\": {\"size\": 16}, \"title\": \"Memory Size Distribution\"}, {\"showLink\": true, \"linkText\": \"Export to plot.ly\"})});</script>"
      ]
     },
     "metadata": {},
     "output_type": "display_data"
    }
   ],
   "source": [
    "data_size = [go.Bar(\n",
    "            x=size_str,\n",
    "            y=list(size)\n",
    "    )]\n",
    "\n",
    "iplot({'data':data_size, 'layout':{'title': 'Memory Size Distribution',\n",
    "                          'font': dict(size=16)}}, filename='basic-bar')"
   ]
  },
  {
   "cell_type": "code",
   "execution_count": 8,
   "metadata": {},
   "outputs": [
    {
     "name": "stdout",
     "output_type": "stream",
     "text": [
      "Good            63\n",
      "Mint            50\n",
      "Fair             6\n",
      "New (Resale)     5\n",
      "Name: Condition, dtype: int64\n"
     ]
    }
   ],
   "source": [
    "condition = iphone_df['Condition'].value_counts()\n",
    "print(condition)"
   ]
  },
  {
   "cell_type": "code",
   "execution_count": 28,
   "metadata": {},
   "outputs": [
    {
     "data": {
      "application/vnd.plotly.v1+json": {
       "data": [
        {
         "type": "bar",
         "uid": "0ae68ce2-c685-11e8-9a7d-6a000073fc60",
         "x": [
          "Good",
          "Mint",
          "Fair",
          "New (Resale)"
         ],
         "y": [
          63,
          50,
          6,
          5
         ]
        }
       ],
       "layout": {
        "font": {
         "size": 16
        },
        "title": "Phone Condition Distribution"
       }
      },
      "text/html": [
       "<div id=\"797c4e84-39c6-458d-83b7-a0dce9f8ac47\" style=\"height: 525px; width: 100%;\" class=\"plotly-graph-div\"></div><script type=\"text/javascript\">require([\"plotly\"], function(Plotly) { window.PLOTLYENV=window.PLOTLYENV || {};window.PLOTLYENV.BASE_URL=\"https://plot.ly\";Plotly.newPlot(\"797c4e84-39c6-458d-83b7-a0dce9f8ac47\", [{\"x\": [\"Good\", \"Mint\", \"Fair\", \"New (Resale)\"], \"y\": [63, 50, 6, 5], \"type\": \"bar\", \"uid\": \"0ae9be62-c685-11e8-ac3d-6a000073fc60\"}], {\"font\": {\"size\": 16}, \"title\": \"Phone Condition Distribution\"}, {\"showLink\": true, \"linkText\": \"Export to plot.ly\"})});</script>"
      ],
      "text/vnd.plotly.v1+html": [
       "<div id=\"797c4e84-39c6-458d-83b7-a0dce9f8ac47\" style=\"height: 525px; width: 100%;\" class=\"plotly-graph-div\"></div><script type=\"text/javascript\">require([\"plotly\"], function(Plotly) { window.PLOTLYENV=window.PLOTLYENV || {};window.PLOTLYENV.BASE_URL=\"https://plot.ly\";Plotly.newPlot(\"797c4e84-39c6-458d-83b7-a0dce9f8ac47\", [{\"x\": [\"Good\", \"Mint\", \"Fair\", \"New (Resale)\"], \"y\": [63, 50, 6, 5], \"type\": \"bar\", \"uid\": \"0ae9be62-c685-11e8-ac3d-6a000073fc60\"}], {\"font\": {\"size\": 16}, \"title\": \"Phone Condition Distribution\"}, {\"showLink\": true, \"linkText\": \"Export to plot.ly\"})});</script>"
      ]
     },
     "metadata": {},
     "output_type": "display_data"
    }
   ],
   "source": [
    "data_condition = [go.Bar(\n",
    "            x=list(condition.index),\n",
    "            y=list(condition)\n",
    "    )]\n",
    "\n",
    "iplot({'data':data_condition, 'layout':{'title': 'Phone Condition Distribution',\n",
    "                          'font': dict(size=16)}}, filename='basic-bar')"
   ]
  },
  {
   "cell_type": "code",
   "execution_count": 10,
   "metadata": {},
   "outputs": [
    {
     "name": "stdout",
     "output_type": "stream",
     "text": [
      "Good            63\n",
      "Mint            50\n",
      "Fair             6\n",
      "New (Resale)     5\n",
      "Name: Condition, dtype: int64\n"
     ]
    }
   ],
   "source": [
    "carrier = iphone_df['Carrier'].value_counts()\n",
    "print(condition)"
   ]
  },
  {
   "cell_type": "code",
   "execution_count": 30,
   "metadata": {},
   "outputs": [
    {
     "data": {
      "application/vnd.plotly.v1+json": {
       "data": [
        {
         "type": "bar",
         "uid": "175fed62-c685-11e8-b71a-6a000073fc60",
         "x": [
          "att",
          "verizon",
          "sprint",
          "tmobile"
         ],
         "y": [
          40,
          30,
          30,
          24
         ]
        }
       ],
       "layout": {
        "font": {
         "size": 16
        },
        "title": "Phone Carrier Distribution"
       }
      },
      "text/html": [
       "<div id=\"304bc6c7-fb45-4126-b030-fd35910fce8e\" style=\"height: 525px; width: 100%;\" class=\"plotly-graph-div\"></div><script type=\"text/javascript\">require([\"plotly\"], function(Plotly) { window.PLOTLYENV=window.PLOTLYENV || {};window.PLOTLYENV.BASE_URL=\"https://plot.ly\";Plotly.newPlot(\"304bc6c7-fb45-4126-b030-fd35910fce8e\", [{\"x\": [\"att\", \"verizon\", \"sprint\", \"tmobile\"], \"y\": [40, 30, 30, 24], \"type\": \"bar\", \"uid\": \"17634b74-c685-11e8-bb40-6a000073fc60\"}], {\"font\": {\"size\": 16}, \"title\": \"Phone Carrier Distribution\"}, {\"showLink\": true, \"linkText\": \"Export to plot.ly\"})});</script>"
      ],
      "text/vnd.plotly.v1+html": [
       "<div id=\"304bc6c7-fb45-4126-b030-fd35910fce8e\" style=\"height: 525px; width: 100%;\" class=\"plotly-graph-div\"></div><script type=\"text/javascript\">require([\"plotly\"], function(Plotly) { window.PLOTLYENV=window.PLOTLYENV || {};window.PLOTLYENV.BASE_URL=\"https://plot.ly\";Plotly.newPlot(\"304bc6c7-fb45-4126-b030-fd35910fce8e\", [{\"x\": [\"att\", \"verizon\", \"sprint\", \"tmobile\"], \"y\": [40, 30, 30, 24], \"type\": \"bar\", \"uid\": \"17634b74-c685-11e8-bb40-6a000073fc60\"}], {\"font\": {\"size\": 16}, \"title\": \"Phone Carrier Distribution\"}, {\"showLink\": true, \"linkText\": \"Export to plot.ly\"})});</script>"
      ]
     },
     "metadata": {},
     "output_type": "display_data"
    }
   ],
   "source": [
    "data_carrier = [go.Bar(\n",
    "            x=list(carrier.index),\n",
    "            y=list(carrier)\n",
    "    )]\n",
    "\n",
    "iplot({'data':data_carrier, 'layout':{'title': 'Phone Carrier Distribution',\n",
    "                          'font': dict(size=16)}}, filename='basic-bar')"
   ]
  },
  {
   "cell_type": "markdown",
   "metadata": {},
   "source": [
    "## One Hot Encoding All Categorical Variables"
   ]
  },
  {
   "cell_type": "code",
   "execution_count": 37,
   "metadata": {},
   "outputs": [],
   "source": [
    "def bin_multi_label(dataframe,column_name):\n",
    "    data_ = dataframe[column_name].value_counts()\n",
    "\n",
    "    list_ = [[i] for i in list(dataframe[column_name])]\n",
    "\n",
    "    one_hot = MultiLabelBinarizer()\n",
    "    one_hot.fit([list(data_.index)]) \n",
    "    one_hot_data_= one_hot.transform(list_)\n",
    "\n",
    "    print(\"Model Classes:\", one_hot.classes_)\n",
    "    model_df = pd.DataFrame(one_hot_data_,columns = one_hot.classes_)\n",
    "    #print(model_df.head(10))\n",
    "    print(\"Shape is:\",model_df.shape)\n",
    "    print(\"\\n\")\n",
    "    return one_hot, model_df"
   ]
  },
  {
   "cell_type": "code",
   "execution_count": 38,
   "metadata": {},
   "outputs": [
    {
     "name": "stdout",
     "output_type": "stream",
     "text": [
      "Model Classes: ['apple-iphone-6s' 'apple-iphone-6s-plus' 'apple-iphone-7-a1660'\n",
      " 'apple-iphone-7-plus-a1661' 'apple-iphone-8-a1863'\n",
      " 'apple-iphone-8-plus-a1864' 'apple-iphone-se' 'apple-iphone-x-a1865']\n",
      "Shape is: (124, 8)\n",
      "\n",
      "\n",
      "Model Classes: ['Black' 'Gold' 'Gray' 'Grey' 'Red' 'Rose Gold' 'Silver']\n",
      "Shape is: (124, 7)\n",
      "\n",
      "\n",
      "Model Classes: ['att' 'sprint' 'tmobile' 'verizon']\n",
      "Shape is: (124, 4)\n",
      "\n",
      "\n",
      "Model Classes: ['Fair' 'Good' 'Mint' 'New (Resale)']\n",
      "Shape is: (124, 4)\n",
      "\n",
      "\n"
     ]
    }
   ],
   "source": [
    "mlb_model,model_df = bin_multi_label(iphone_df,'Phone Model')\n",
    "mlb_color,color_df = bin_multi_label(iphone_df,'Color')\n",
    "mlb_carrier,carrier_df = bin_multi_label(iphone_df,'Carrier')\n",
    "mlb_condition,condition_df = bin_multi_label(iphone_df,'Condition')"
   ]
  },
  {
   "cell_type": "code",
   "execution_count": 32,
   "metadata": {
    "scrolled": true
   },
   "outputs": [
    {
     "name": "stdout",
     "output_type": "stream",
     "text": [
      "Index(['apple-iphone-6s', 'apple-iphone-6s-plus', 'apple-iphone-7-a1660',\n",
      "       'apple-iphone-7-plus-a1661', 'apple-iphone-8-a1863',\n",
      "       'apple-iphone-8-plus-a1864', 'apple-iphone-se', 'apple-iphone-x-a1865',\n",
      "       'att', 'sprint', 'tmobile', 'verizon', 'Fair', 'Good', 'Mint',\n",
      "       'New (Resale)', 'Black', 'Gold', 'Gray', 'Grey', 'Red', 'Rose Gold',\n",
      "       'Silver', 'Size', 'Recently Sold Price'],\n",
      "      dtype='object')\n",
      "(124, 25)\n"
     ]
    }
   ],
   "source": [
    "#model_df.reset_index(drop=True, inplace=True)\n",
    "#carrier_df.reset_index(drop=True, inplace=True)\n",
    "data_encoded = pd.concat([model_df,carrier_df,condition_df,color_df,iphone_df['Size'],iphone_df['Recently Sold Price']], axis=1,sort=False)\n",
    "print(data_encoded.columns)\n",
    "print(data_encoded.shape)"
   ]
  },
  {
   "cell_type": "code",
   "execution_count": 15,
   "metadata": {},
   "outputs": [],
   "source": [
    "#file_name = \"data_encoded.csv\"\n",
    "#data_encoded.to_csv(file_name, encoding='utf-8', index=False)"
   ]
  },
  {
   "cell_type": "code",
   "execution_count": 16,
   "metadata": {},
   "outputs": [],
   "source": [
    "def undo_mlb_transform(mlb, data_array):\n",
    "    data_array = [[i] for i in data_array]\n",
    "    undid = mlb.inverse_transform(np.transpose(data_array))\n",
    "    return undid[0][0]"
   ]
  },
  {
   "cell_type": "code",
   "execution_count": 20,
   "metadata": {},
   "outputs": [],
   "source": [
    "pickle.dump(mlb_model, open('mlb_model.sav', 'wb'))\n",
    "pickle.dump(mlb_color, open('mlb_color.sav', 'wb'))\n",
    "pickle.dump(mlb_carrier, open('mlb_carrier.sav', 'wb'))\n",
    "pickle.dump(mlb_condition, open('mlb_condition.sav', 'wb'))"
   ]
  },
  {
   "cell_type": "code",
   "execution_count": null,
   "metadata": {},
   "outputs": [],
   "source": []
  }
 ],
 "metadata": {
  "kernelspec": {
   "display_name": "Python 3",
   "language": "python",
   "name": "python3"
  },
  "language_info": {
   "codemirror_mode": {
    "name": "ipython",
    "version": 3
   },
   "file_extension": ".py",
   "mimetype": "text/x-python",
   "name": "python",
   "nbconvert_exporter": "python",
   "pygments_lexer": "ipython3",
   "version": "3.6.5"
  }
 },
 "nbformat": 4,
 "nbformat_minor": 2
}
