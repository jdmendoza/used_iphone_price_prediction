{
 "cells": [
  {
   "cell_type": "code",
   "execution_count": 1,
   "metadata": {},
   "outputs": [
    {
     "data": {
      "text/html": [
       "<script>requirejs.config({paths: { 'plotly': ['https://cdn.plot.ly/plotly-latest.min']},});if(!window.Plotly) {{require(['plotly'],function(plotly) {window.Plotly=plotly;});}}</script>"
      ],
      "text/vnd.plotly.v1+html": [
       "<script>requirejs.config({paths: { 'plotly': ['https://cdn.plot.ly/plotly-latest.min']},});if(!window.Plotly) {{require(['plotly'],function(plotly) {window.Plotly=plotly;});}}</script>"
      ]
     },
     "metadata": {},
     "output_type": "display_data"
    }
   ],
   "source": [
    "import pandas as pd\n",
    "import pickle\n",
    "\n",
    "from plotly import __version__\n",
    "from plotly.offline import download_plotlyjs, init_notebook_mode, plot, iplot\n",
    "import plotly.graph_objs as go\n",
    "\n",
    "init_notebook_mode(connected=True)"
   ]
  },
  {
   "cell_type": "code",
   "execution_count": 2,
   "metadata": {},
   "outputs": [],
   "source": [
    "file_name = \"data_encoded.csv\"\n",
    "encoded_data = pd.read_csv(file_name)\n",
    "#encoded_data = encoded_data[encoded_data['apple-iphone-se']!= 1]"
   ]
  },
  {
   "cell_type": "code",
   "execution_count": 3,
   "metadata": {
    "scrolled": false
   },
   "outputs": [
    {
     "data": {
      "text/plain": [
       "Index(['apple-iphone-6s', 'apple-iphone-6s-plus', 'apple-iphone-7-a1660',\n",
       "       'apple-iphone-7-plus-a1661', 'apple-iphone-8-a1863',\n",
       "       'apple-iphone-8-plus-a1864', 'apple-iphone-se', 'apple-iphone-x-a1865',\n",
       "       'att', 'sprint', 'tmobile', 'verizon', 'Fair', 'Good', 'Mint',\n",
       "       'New (Resale)', 'Black', 'Gold', 'Gray', 'Grey', 'Red', 'Rose Gold',\n",
       "       'Silver', 'Size', 'Recently Sold Price'],\n",
       "      dtype='object')"
      ]
     },
     "execution_count": 3,
     "metadata": {},
     "output_type": "execute_result"
    }
   ],
   "source": [
    "encoded_data.columns"
   ]
  },
  {
   "cell_type": "code",
   "execution_count": 4,
   "metadata": {},
   "outputs": [],
   "source": [
    "y = encoded_data.pop('Recently Sold Price')\n",
    "X = encoded_data"
   ]
  },
  {
   "cell_type": "code",
   "execution_count": 78,
   "metadata": {
    "scrolled": true
   },
   "outputs": [
    {
     "name": "stdout",
     "output_type": "stream",
     "text": [
      "Standard error: 34.35$\n",
      "R2 score: 0.97\n"
     ]
    }
   ],
   "source": [
    "import matplotlib.pyplot as plt\n",
    "import numpy as np\n",
    "from sklearn import linear_model\n",
    "from sklearn.metrics import mean_squared_error, r2_score\n",
    "from sklearn.model_selection import train_test_split\n",
    "\n",
    "X_train, X_test, y_train, y_test = train_test_split(X, y, test_size=0.2, random_state=444)\n",
    "\n",
    "regr = linear_model.LinearRegression()\n",
    "#regr = linear_model.Ridge(alpha=.3)\n",
    "# Train the model using the training sets\n",
    "regr.fit(X_train, y_train)\n",
    "\n",
    "# Make predictions using the testing set\n",
    "y_train_pred = regr.predict(X_train)\n",
    "y_pred = regr.predict(X_test)\n",
    "\n",
    "# The coefficients\n",
    "#print('Coefficients: \\n', regr.coef_)\n",
    "# The mean squared error\n",
    "print(\"Standard error: %.2f$\"\n",
    "      % mean_squared_error(y_test, y_pred)**0.5)\n",
    "# Explained variance score: 1 is perfect prediction\n",
    "print('R2 score: %.2f' % r2_score(y_test, y_pred))"
   ]
  },
  {
   "cell_type": "code",
   "execution_count": 64,
   "metadata": {},
   "outputs": [
    {
     "data": {
      "text/plain": [
       "695.276430119734"
      ]
     },
     "execution_count": 64,
     "metadata": {},
     "output_type": "execute_result"
    }
   ],
   "source": [
    "max(y_pred)\n",
    "#print(\"X:\",X_test.shape,\"y:\",y_test.shape)"
   ]
  },
  {
   "cell_type": "code",
   "execution_count": 67,
   "metadata": {},
   "outputs": [
    {
     "data": {
      "application/vnd.plotly.v1+json": {
       "data": [
        {
         "mode": "markers",
         "type": "scatter",
         "uid": "a92453ac-c749-11e8-a7db-6a000073fc60",
         "x": [
          697.8509058713728,
          500.2653268968086,
          166.75219258943784,
          280.01667265882355,
          161.01268651398635,
          158.79502301620622,
          539.2084126659861,
          201.246592571213,
          247.88315303717417,
          141.04481052335785,
          700.440961265002,
          453.47576860995264,
          194.24711872110706,
          205.08537774293535,
          453.71703483555336,
          544.7062834411302,
          400.40244128787106,
          453.71703483555336,
          717.979043067225,
          186.6511547517867,
          425.5194427165364,
          537.629164402366,
          738.8822464465013,
          524.6129748465598,
          475.1483254681432
         ],
         "y": [
          680,
          540,
          140,
          250,
          150,
          259,
          570,
          190,
          230,
          155,
          660,
          515,
          185,
          218,
          490,
          535,
          384,
          465,
          695,
          210,
          395,
          530,
          700,
          580,
          465
         ]
        },
        {
         "mode": "markers",
         "type": "scatter",
         "uid": "a924553a-c749-11e8-908d-6a000073fc60",
         "x": [
          280.01667265882355,
          579.4258289980482,
          273.4061804772224,
          512.3277610047313,
          523.2980888738623,
          196.53422411624115,
          635.9716268735895,
          105.79817879096777,
          263.4044137847243,
          233.51649420493834,
          161.17294771921007,
          277.0833847635083,
          135.53244868970836,
          676.1783490131822,
          271.48487033847664,
          183.53963254902254,
          279.06378996491895,
          177.48085818665515,
          719.79974498194,
          400.40244128787106,
          584.1774564636212,
          784.127385071019,
          152.06953419065684,
          548.150728011605,
          762.6960944384291,
          759.0103836423536,
          205.13980140157975,
          169.81974668350523,
          457.6102436659201,
          277.0833847635083,
          631.8254192816621,
          186.2899491478754,
          182.99322002030465,
          696.5477524346352,
          478.83403626421875,
          202.96109601093315,
          144.47560101303785,
          566.13757407372,
          196.60799908123283,
          241.17274457137623,
          163.19139190463295,
          243.7627999650054,
          194.01794368760363,
          625.2087970387497,
          571.1264383065331,
          230.13189271897448,
          253.94678853625356,
          291.1563929700708,
          516.220969835098,
          224.0823513432174,
          676.1783490131822,
          250.05357970588682,
          564.049319267769,
          265.42123483939724,
          266.28974600004165,
          176.17770474991755,
          176.17770474991755,
          458.4646328427658,
          205.1879150089497,
          671.4307510059698,
          700.440961265002,
          784.127385071019,
          229.07909374087308,
          214.14608088345585,
          103.20812339733857,
          149.59695038648118,
          325.0044160314403,
          475.1483254681432,
          248.86381179567232,
          657.4029175061794,
          196.53422411624115,
          180.07091358028435,
          534.2195484331729,
          242.04829652528525,
          539.2084126659861,
          762.6960944384291,
          171.21175544498593,
          697.8509058713728,
          368.07811599550126,
          425.5194427165364,
          512.3277610047313,
          321.59558621528663,
          143.634865916987,
          277.8332304730356,
          194.24711872110706,
          700.440961265002,
          192.71479025086603,
          569.8232848697955,
          458.4646328427658,
          220.49917781315622,
          571.1264383065331,
          741.4723018401305,
          257.70983007232473,
          645.5741710018423,
          548.8755870983795,
          717.979043067225,
          171.21175544498593,
          191.545359883428,
          741.0235375802386
         ],
         "y": [
          265,
          585,
          399,
          515,
          539,
          198,
          640,
          120,
          275,
          220,
          149,
          252,
          104,
          679,
          265,
          150,
          299,
          125,
          750,
          465,
          620,
          765,
          165,
          545,
          735,
          750,
          220,
          210,
          479,
          285,
          630,
          189,
          175,
          675,
          500,
          255,
          119,
          560,
          190,
          235,
          160,
          240,
          220,
          600,
          550,
          223,
          230,
          310,
          472,
          230,
          670,
          170,
          530,
          260,
          249,
          210,
          205,
          485,
          175,
          660,
          700,
          850,
          184,
          235,
          104,
          115,
          300,
          465,
          255,
          775,
          189,
          175,
          500,
          270,
          580,
          690,
          210,
          715,
          330,
          399,
          540,
          310,
          145,
          295,
          185,
          764,
          185,
          570,
          490,
          249,
          505,
          750,
          250,
          640,
          450,
          749,
          210,
          155,
          690
         ]
        }
       ],
       "layout": {
        "shapes": [
         {
          "line": {
           "color": "rgb(0,0,0)",
           "width": 4
          },
          "type": "line",
          "x0": 0,
          "x1": 800,
          "y0": 0,
          "y1": 800
         }
        ],
        "showlegend": false,
        "title": "Prediction Performance",
        "xaxis": {
         "title": "Actual Value"
        },
        "yaxis": {
         "title": "Predicted Value"
        }
       }
      },
      "text/html": [
       "<div id=\"53d9a4f3-9d44-43f5-a6fa-ff035b225d5c\" style=\"height: 525px; width: 100%;\" class=\"plotly-graph-div\"></div><script type=\"text/javascript\">require([\"plotly\"], function(Plotly) { window.PLOTLYENV=window.PLOTLYENV || {};window.PLOTLYENV.BASE_URL=\"https://plot.ly\";Plotly.newPlot(\"53d9a4f3-9d44-43f5-a6fa-ff035b225d5c\", [{\"mode\": \"markers\", \"x\": [697.8509058713728, 500.2653268968086, 166.75219258943784, 280.01667265882355, 161.01268651398635, 158.79502301620622, 539.2084126659861, 201.246592571213, 247.88315303717417, 141.04481052335785, 700.440961265002, 453.47576860995264, 194.24711872110706, 205.08537774293535, 453.71703483555336, 544.7062834411302, 400.40244128787106, 453.71703483555336, 717.979043067225, 186.6511547517867, 425.5194427165364, 537.629164402366, 738.8822464465013, 524.6129748465598, 475.1483254681432], \"y\": [680, 540, 140, 250, 150, 259, 570, 190, 230, 155, 660, 515, 185, 218, 490, 535, 384, 465, 695, 210, 395, 530, 700, 580, 465], \"type\": \"scatter\", \"uid\": \"a9288e36-c749-11e8-b697-6a000073fc60\"}, {\"mode\": \"markers\", \"x\": [280.01667265882355, 579.4258289980482, 273.4061804772224, 512.3277610047313, 523.2980888738623, 196.53422411624115, 635.9716268735895, 105.79817879096777, 263.4044137847243, 233.51649420493834, 161.17294771921007, 277.0833847635083, 135.53244868970836, 676.1783490131822, 271.48487033847664, 183.53963254902254, 279.06378996491895, 177.48085818665515, 719.79974498194, 400.40244128787106, 584.1774564636212, 784.127385071019, 152.06953419065684, 548.150728011605, 762.6960944384291, 759.0103836423536, 205.13980140157975, 169.81974668350523, 457.6102436659201, 277.0833847635083, 631.8254192816621, 186.2899491478754, 182.99322002030465, 696.5477524346352, 478.83403626421875, 202.96109601093315, 144.47560101303785, 566.13757407372, 196.60799908123283, 241.17274457137623, 163.19139190463295, 243.7627999650054, 194.01794368760363, 625.2087970387497, 571.1264383065331, 230.13189271897448, 253.94678853625356, 291.1563929700708, 516.220969835098, 224.0823513432174, 676.1783490131822, 250.05357970588682, 564.049319267769, 265.42123483939724, 266.28974600004165, 176.17770474991755, 176.17770474991755, 458.4646328427658, 205.1879150089497, 671.4307510059698, 700.440961265002, 784.127385071019, 229.07909374087308, 214.14608088345585, 103.20812339733857, 149.59695038648118, 325.0044160314403, 475.1483254681432, 248.86381179567232, 657.4029175061794, 196.53422411624115, 180.07091358028435, 534.2195484331729, 242.04829652528525, 539.2084126659861, 762.6960944384291, 171.21175544498593, 697.8509058713728, 368.07811599550126, 425.5194427165364, 512.3277610047313, 321.59558621528663, 143.634865916987, 277.8332304730356, 194.24711872110706, 700.440961265002, 192.71479025086603, 569.8232848697955, 458.4646328427658, 220.49917781315622, 571.1264383065331, 741.4723018401305, 257.70983007232473, 645.5741710018423, 548.8755870983795, 717.979043067225, 171.21175544498593, 191.545359883428, 741.0235375802386], \"y\": [265, 585, 399, 515, 539, 198, 640, 120, 275, 220, 149, 252, 104, 679, 265, 150, 299, 125, 750, 465, 620, 765, 165, 545, 735, 750, 220, 210, 479, 285, 630, 189, 175, 675, 500, 255, 119, 560, 190, 235, 160, 240, 220, 600, 550, 223, 230, 310, 472, 230, 670, 170, 530, 260, 249, 210, 205, 485, 175, 660, 700, 850, 184, 235, 104, 115, 300, 465, 255, 775, 189, 175, 500, 270, 580, 690, 210, 715, 330, 399, 540, 310, 145, 295, 185, 764, 185, 570, 490, 249, 505, 750, 250, 640, 450, 749, 210, 155, 690], \"type\": \"scatter\", \"uid\": \"a9288fb4-c749-11e8-bc3c-6a000073fc60\"}], {\"shapes\": [{\"line\": {\"color\": \"rgb(0,0,0)\", \"width\": 4}, \"type\": \"line\", \"x0\": 0, \"x1\": 800, \"y0\": 0, \"y1\": 800}], \"showlegend\": false, \"title\": \"Prediction Performance\", \"xaxis\": {\"title\": \"Actual Value\"}, \"yaxis\": {\"title\": \"Predicted Value\"}}, {\"showLink\": true, \"linkText\": \"Export to plot.ly\"})});</script>"
      ],
      "text/vnd.plotly.v1+html": [
       "<div id=\"53d9a4f3-9d44-43f5-a6fa-ff035b225d5c\" style=\"height: 525px; width: 100%;\" class=\"plotly-graph-div\"></div><script type=\"text/javascript\">require([\"plotly\"], function(Plotly) { window.PLOTLYENV=window.PLOTLYENV || {};window.PLOTLYENV.BASE_URL=\"https://plot.ly\";Plotly.newPlot(\"53d9a4f3-9d44-43f5-a6fa-ff035b225d5c\", [{\"mode\": \"markers\", \"x\": [697.8509058713728, 500.2653268968086, 166.75219258943784, 280.01667265882355, 161.01268651398635, 158.79502301620622, 539.2084126659861, 201.246592571213, 247.88315303717417, 141.04481052335785, 700.440961265002, 453.47576860995264, 194.24711872110706, 205.08537774293535, 453.71703483555336, 544.7062834411302, 400.40244128787106, 453.71703483555336, 717.979043067225, 186.6511547517867, 425.5194427165364, 537.629164402366, 738.8822464465013, 524.6129748465598, 475.1483254681432], \"y\": [680, 540, 140, 250, 150, 259, 570, 190, 230, 155, 660, 515, 185, 218, 490, 535, 384, 465, 695, 210, 395, 530, 700, 580, 465], \"type\": \"scatter\", \"uid\": \"a9288e36-c749-11e8-b697-6a000073fc60\"}, {\"mode\": \"markers\", \"x\": [280.01667265882355, 579.4258289980482, 273.4061804772224, 512.3277610047313, 523.2980888738623, 196.53422411624115, 635.9716268735895, 105.79817879096777, 263.4044137847243, 233.51649420493834, 161.17294771921007, 277.0833847635083, 135.53244868970836, 676.1783490131822, 271.48487033847664, 183.53963254902254, 279.06378996491895, 177.48085818665515, 719.79974498194, 400.40244128787106, 584.1774564636212, 784.127385071019, 152.06953419065684, 548.150728011605, 762.6960944384291, 759.0103836423536, 205.13980140157975, 169.81974668350523, 457.6102436659201, 277.0833847635083, 631.8254192816621, 186.2899491478754, 182.99322002030465, 696.5477524346352, 478.83403626421875, 202.96109601093315, 144.47560101303785, 566.13757407372, 196.60799908123283, 241.17274457137623, 163.19139190463295, 243.7627999650054, 194.01794368760363, 625.2087970387497, 571.1264383065331, 230.13189271897448, 253.94678853625356, 291.1563929700708, 516.220969835098, 224.0823513432174, 676.1783490131822, 250.05357970588682, 564.049319267769, 265.42123483939724, 266.28974600004165, 176.17770474991755, 176.17770474991755, 458.4646328427658, 205.1879150089497, 671.4307510059698, 700.440961265002, 784.127385071019, 229.07909374087308, 214.14608088345585, 103.20812339733857, 149.59695038648118, 325.0044160314403, 475.1483254681432, 248.86381179567232, 657.4029175061794, 196.53422411624115, 180.07091358028435, 534.2195484331729, 242.04829652528525, 539.2084126659861, 762.6960944384291, 171.21175544498593, 697.8509058713728, 368.07811599550126, 425.5194427165364, 512.3277610047313, 321.59558621528663, 143.634865916987, 277.8332304730356, 194.24711872110706, 700.440961265002, 192.71479025086603, 569.8232848697955, 458.4646328427658, 220.49917781315622, 571.1264383065331, 741.4723018401305, 257.70983007232473, 645.5741710018423, 548.8755870983795, 717.979043067225, 171.21175544498593, 191.545359883428, 741.0235375802386], \"y\": [265, 585, 399, 515, 539, 198, 640, 120, 275, 220, 149, 252, 104, 679, 265, 150, 299, 125, 750, 465, 620, 765, 165, 545, 735, 750, 220, 210, 479, 285, 630, 189, 175, 675, 500, 255, 119, 560, 190, 235, 160, 240, 220, 600, 550, 223, 230, 310, 472, 230, 670, 170, 530, 260, 249, 210, 205, 485, 175, 660, 700, 850, 184, 235, 104, 115, 300, 465, 255, 775, 189, 175, 500, 270, 580, 690, 210, 715, 330, 399, 540, 310, 145, 295, 185, 764, 185, 570, 490, 249, 505, 750, 250, 640, 450, 749, 210, 155, 690], \"type\": \"scatter\", \"uid\": \"a9288fb4-c749-11e8-bc3c-6a000073fc60\"}], {\"shapes\": [{\"line\": {\"color\": \"rgb(0,0,0)\", \"width\": 4}, \"type\": \"line\", \"x0\": 0, \"x1\": 800, \"y0\": 0, \"y1\": 800}], \"showlegend\": false, \"title\": \"Prediction Performance\", \"xaxis\": {\"title\": \"Actual Value\"}, \"yaxis\": {\"title\": \"Predicted Value\"}}, {\"showLink\": true, \"linkText\": \"Export to plot.ly\"})});</script>"
      ]
     },
     "metadata": {},
     "output_type": "display_data"
    }
   ],
   "source": [
    "# Plot outputs\n",
    "\n",
    "trace1 = go.Scatter(\n",
    "        x=y_pred,\n",
    "        y=y_test,\n",
    "        mode='markers'\n",
    "        )\n",
    "trace2 = go.Scatter(\n",
    "        x=y_train_pred,\n",
    "        y=y_train,\n",
    "        mode='markers'\n",
    "        )\n",
    "\n",
    "layout = {\n",
    "    \n",
    "    'title':'Prediction Performance',\n",
    "    'xaxis' : dict(title = 'Actual Value'),\n",
    "    'yaxis' : dict(title = 'Predicted Value'),\n",
    "    'shapes': [\n",
    "        {\n",
    "            'type': 'line',\n",
    "            'x0': 0,\n",
    "            'y0': 0,\n",
    "            'x1': 800,\n",
    "            'y1': 800,\n",
    "            'line': {\n",
    "                'color': 'rgb(0,0,0)',\n",
    "                'width': 4\n",
    "            },\n",
    "        }\n",
    "    ],\n",
    "    'showlegend': False\n",
    "}\n",
    "data = [trace1,trace2]\n",
    "\n",
    "iplot({'data':data, 'layout':layout},filename='basic')"
   ]
  },
  {
   "cell_type": "markdown",
   "metadata": {},
   "source": [
    "## Using For Instance Prediction"
   ]
  },
  {
   "cell_type": "code",
   "execution_count": 8,
   "metadata": {},
   "outputs": [],
   "source": [
    "mlb_model = pickle.load(open('mlb_model.sav', 'rb'))\n",
    "mlb_color = pickle.load(open('mlb_color.sav', 'rb'))\n",
    "mlb_carrier = pickle.load(open('mlb_carrier.sav', 'rb'))\n",
    "mlb_condition = pickle.load(open('mlb_condition.sav', 'rb'))"
   ]
  },
  {
   "cell_type": "code",
   "execution_count": 9,
   "metadata": {},
   "outputs": [
    {
     "name": "stdout",
     "output_type": "stream",
     "text": [
      "['apple-iphone-6s' 'apple-iphone-6s-plus' 'apple-iphone-7-a1660'\n",
      " 'apple-iphone-7-plus-a1661' 'apple-iphone-8-a1863'\n",
      " 'apple-iphone-8-plus-a1864' 'apple-iphone-se' 'apple-iphone-x-a1865']\n"
     ]
    }
   ],
   "source": [
    "print(mlb_model.classes_)"
   ]
  },
  {
   "cell_type": "code",
   "execution_count": 49,
   "metadata": {},
   "outputs": [],
   "source": [
    "def predict_price(model,color,carrier,condition,size,coeff,intercept):\n",
    "    test_vect = []\n",
    "    \n",
    "    test_vect.extend(mlb_model.transform([[model]])[0])\n",
    "    test_vect.extend(mlb_color.transform([[color]])[0])\n",
    "    test_vect.extend(mlb_carrier.transform([[carrier]])[0])\n",
    "    test_vect.extend(mlb_condition.transform([[condition]])[0]) \n",
    "    test_vect.extend([size])\n",
    "    print(test_vect)\n",
    "    \n",
    "    pred_price = np.dot(regr.coef_, np.transpose(test_vect))\n",
    "    \n",
    "    return '$'+ str(round(pred_price+intercept,2))"
   ]
  },
  {
   "cell_type": "code",
   "execution_count": 73,
   "metadata": {},
   "outputs": [
    {
     "name": "stdout",
     "output_type": "stream",
     "text": [
      "[1, 0, 0, 0, 0, 0, 0, 0, 0, 0, 1, 0, 0, 0, 0, 1, 0, 0, 0, 1, 0, 0, 0, 64]\n"
     ]
    },
    {
     "data": {
      "text/plain": [
       "'$262.3'"
      ]
     },
     "execution_count": 73,
     "metadata": {},
     "output_type": "execute_result"
    }
   ],
   "source": [
    "predict_price('apple-iphone-6s','Gray','att','Fair',64,regr.coef_,regr.intercept_)"
   ]
  },
  {
   "cell_type": "code",
   "execution_count": 16,
   "metadata": {
    "scrolled": true
   },
   "outputs": [
    {
     "data": {
      "text/html": [
       "<table class=\"simpletable\">\n",
       "<caption>OLS Regression Results</caption>\n",
       "<tr>\n",
       "  <th>Dep. Variable:</th>    <td>Recently Sold Price</td> <th>  R-squared:         </th> <td>   0.974</td>\n",
       "</tr>\n",
       "<tr>\n",
       "  <th>Model:</th>                    <td>OLS</td>         <th>  Adj. R-squared:    </th> <td>   0.969</td>\n",
       "</tr>\n",
       "<tr>\n",
       "  <th>Method:</th>              <td>Least Squares</td>    <th>  F-statistic:       </th> <td>   171.6</td>\n",
       "</tr>\n",
       "<tr>\n",
       "  <th>Date:</th>              <td>Wed, 03 Oct 2018</td>   <th>  Prob (F-statistic):</th> <td>9.17e-63</td>\n",
       "</tr>\n",
       "<tr>\n",
       "  <th>Time:</th>                  <td>10:52:01</td>       <th>  Log-Likelihood:    </th> <td> -547.06</td>\n",
       "</tr>\n",
       "<tr>\n",
       "  <th>No. Observations:</th>       <td>   111</td>        <th>  AIC:               </th> <td>   1136.</td>\n",
       "</tr>\n",
       "<tr>\n",
       "  <th>Df Residuals:</th>           <td>    90</td>        <th>  BIC:               </th> <td>   1193.</td>\n",
       "</tr>\n",
       "<tr>\n",
       "  <th>Df Model:</th>               <td>    20</td>        <th>                     </th>     <td> </td>   \n",
       "</tr>\n",
       "<tr>\n",
       "  <th>Covariance Type:</th>       <td>nonrobust</td>      <th>                     </th>     <td> </td>   \n",
       "</tr>\n",
       "</table>\n",
       "<table class=\"simpletable\">\n",
       "<tr>\n",
       "              <td></td>                 <th>coef</th>     <th>std err</th>      <th>t</th>      <th>P>|t|</th>  <th>[0.025</th>    <th>0.975]</th>  \n",
       "</tr>\n",
       "<tr>\n",
       "  <th>apple-iphone-6s</th>           <td>  -97.8927</td> <td>   12.354</td> <td>   -7.924</td> <td> 0.000</td> <td> -122.436</td> <td>  -73.349</td>\n",
       "</tr>\n",
       "<tr>\n",
       "  <th>apple-iphone-6s-plus</th>      <td>  -40.8405</td> <td>   11.900</td> <td>   -3.432</td> <td> 0.001</td> <td>  -64.481</td> <td>  -17.200</td>\n",
       "</tr>\n",
       "<tr>\n",
       "  <th>apple-iphone-7-a1660</th>      <td>  -43.3458</td> <td>   23.345</td> <td>   -1.857</td> <td> 0.067</td> <td>  -89.724</td> <td>    3.032</td>\n",
       "</tr>\n",
       "<tr>\n",
       "  <th>apple-iphone-7-plus-a1661</th> <td>   37.1864</td> <td>   33.491</td> <td>    1.110</td> <td> 0.270</td> <td>  -29.349</td> <td>  103.722</td>\n",
       "</tr>\n",
       "<tr>\n",
       "  <th>apple-iphone-8-a1863</th>      <td>  153.6686</td> <td>   14.438</td> <td>   10.643</td> <td> 0.000</td> <td>  124.985</td> <td>  182.352</td>\n",
       "</tr>\n",
       "<tr>\n",
       "  <th>apple-iphone-8-plus-a1864</th> <td>  237.6922</td> <td>   14.759</td> <td>   16.105</td> <td> 0.000</td> <td>  208.372</td> <td>  267.013</td>\n",
       "</tr>\n",
       "<tr>\n",
       "  <th>apple-iphone-se</th>           <td> -141.0450</td> <td>   12.737</td> <td>  -11.074</td> <td> 0.000</td> <td> -166.349</td> <td> -115.741</td>\n",
       "</tr>\n",
       "<tr>\n",
       "  <th>apple-iphone-x-a1865</th>      <td>  360.1838</td> <td>   15.455</td> <td>   23.305</td> <td> 0.000</td> <td>  329.479</td> <td>  390.888</td>\n",
       "</tr>\n",
       "<tr>\n",
       "  <th>att</th>                       <td>  129.9090</td> <td>    7.292</td> <td>   17.815</td> <td> 0.000</td> <td>  115.422</td> <td>  144.396</td>\n",
       "</tr>\n",
       "<tr>\n",
       "  <th>sprint</th>                    <td>  110.3113</td> <td>    7.491</td> <td>   14.726</td> <td> 0.000</td> <td>   95.429</td> <td>  125.193</td>\n",
       "</tr>\n",
       "<tr>\n",
       "  <th>tmobile</th>                   <td>  114.1290</td> <td>    7.892</td> <td>   14.462</td> <td> 0.000</td> <td>   98.451</td> <td>  129.807</td>\n",
       "</tr>\n",
       "<tr>\n",
       "  <th>verizon</th>                   <td>  111.2577</td> <td>    7.149</td> <td>   15.563</td> <td> 0.000</td> <td>   97.055</td> <td>  125.460</td>\n",
       "</tr>\n",
       "<tr>\n",
       "  <th>Fair</th>                      <td>   73.3427</td> <td>   14.635</td> <td>    5.012</td> <td> 0.000</td> <td>   44.268</td> <td>  102.417</td>\n",
       "</tr>\n",
       "<tr>\n",
       "  <th>Good</th>                      <td>  101.5892</td> <td>    6.972</td> <td>   14.571</td> <td> 0.000</td> <td>   87.738</td> <td>  115.440</td>\n",
       "</tr>\n",
       "<tr>\n",
       "  <th>Mint</th>                      <td>  127.0744</td> <td>    7.689</td> <td>   16.526</td> <td> 0.000</td> <td>  111.799</td> <td>  142.350</td>\n",
       "</tr>\n",
       "<tr>\n",
       "  <th>New (Resale)</th>              <td>  163.6008</td> <td>   16.490</td> <td>    9.921</td> <td> 0.000</td> <td>  130.841</td> <td>  196.360</td>\n",
       "</tr>\n",
       "<tr>\n",
       "  <th>Black</th>                     <td>   75.8221</td> <td>   30.886</td> <td>    2.455</td> <td> 0.016</td> <td>   14.461</td> <td>  137.183</td>\n",
       "</tr>\n",
       "<tr>\n",
       "  <th>Gold</th>                      <td>   62.9486</td> <td>   12.319</td> <td>    5.110</td> <td> 0.000</td> <td>   38.474</td> <td>   87.423</td>\n",
       "</tr>\n",
       "<tr>\n",
       "  <th>Gray</th>                      <td>   71.1150</td> <td>   13.031</td> <td>    5.457</td> <td> 0.000</td> <td>   45.227</td> <td>   97.003</td>\n",
       "</tr>\n",
       "<tr>\n",
       "  <th>Grey</th>                      <td>   57.1652</td> <td>   11.439</td> <td>    4.997</td> <td> 0.000</td> <td>   34.440</td> <td>   79.891</td>\n",
       "</tr>\n",
       "<tr>\n",
       "  <th>Red</th>                       <td>   80.4864</td> <td>   27.262</td> <td>    2.952</td> <td> 0.004</td> <td>   26.326</td> <td>  134.647</td>\n",
       "</tr>\n",
       "<tr>\n",
       "  <th>Rose Gold</th>                 <td>   63.1371</td> <td>   11.798</td> <td>    5.352</td> <td> 0.000</td> <td>   39.699</td> <td>   86.575</td>\n",
       "</tr>\n",
       "<tr>\n",
       "  <th>Silver</th>                    <td>   54.9328</td> <td>   11.393</td> <td>    4.821</td> <td> 0.000</td> <td>   32.298</td> <td>   77.568</td>\n",
       "</tr>\n",
       "<tr>\n",
       "  <th>Size</th>                      <td>    0.3558</td> <td>    0.058</td> <td>    6.136</td> <td> 0.000</td> <td>    0.241</td> <td>    0.471</td>\n",
       "</tr>\n",
       "</table>\n",
       "<table class=\"simpletable\">\n",
       "<tr>\n",
       "  <th>Omnibus:</th>       <td>17.051</td> <th>  Durbin-Watson:     </th> <td>   2.096</td>\n",
       "</tr>\n",
       "<tr>\n",
       "  <th>Prob(Omnibus):</th> <td> 0.000</td> <th>  Jarque-Bera (JB):  </th> <td>  41.414</td>\n",
       "</tr>\n",
       "<tr>\n",
       "  <th>Skew:</th>          <td> 0.512</td> <th>  Prob(JB):          </th> <td>1.02e-09</td>\n",
       "</tr>\n",
       "<tr>\n",
       "  <th>Kurtosis:</th>      <td> 5.812</td> <th>  Cond. No.          </th> <td>1.45e+18</td>\n",
       "</tr>\n",
       "</table><br/><br/>Warnings:<br/>[1] Standard Errors assume that the covariance matrix of the errors is correctly specified.<br/>[2] The smallest eigenvalue is 7.35e-31. This might indicate that there are<br/>strong multicollinearity problems or that the design matrix is singular."
      ],
      "text/plain": [
       "<class 'statsmodels.iolib.summary.Summary'>\n",
       "\"\"\"\n",
       "                             OLS Regression Results                            \n",
       "===============================================================================\n",
       "Dep. Variable:     Recently Sold Price   R-squared:                       0.974\n",
       "Model:                             OLS   Adj. R-squared:                  0.969\n",
       "Method:                  Least Squares   F-statistic:                     171.6\n",
       "Date:                 Wed, 03 Oct 2018   Prob (F-statistic):           9.17e-63\n",
       "Time:                         10:52:01   Log-Likelihood:                -547.06\n",
       "No. Observations:                  111   AIC:                             1136.\n",
       "Df Residuals:                       90   BIC:                             1193.\n",
       "Df Model:                           20                                         \n",
       "Covariance Type:             nonrobust                                         \n",
       "=============================================================================================\n",
       "                                coef    std err          t      P>|t|      [0.025      0.975]\n",
       "---------------------------------------------------------------------------------------------\n",
       "apple-iphone-6s             -97.8927     12.354     -7.924      0.000    -122.436     -73.349\n",
       "apple-iphone-6s-plus        -40.8405     11.900     -3.432      0.001     -64.481     -17.200\n",
       "apple-iphone-7-a1660        -43.3458     23.345     -1.857      0.067     -89.724       3.032\n",
       "apple-iphone-7-plus-a1661    37.1864     33.491      1.110      0.270     -29.349     103.722\n",
       "apple-iphone-8-a1863        153.6686     14.438     10.643      0.000     124.985     182.352\n",
       "apple-iphone-8-plus-a1864   237.6922     14.759     16.105      0.000     208.372     267.013\n",
       "apple-iphone-se            -141.0450     12.737    -11.074      0.000    -166.349    -115.741\n",
       "apple-iphone-x-a1865        360.1838     15.455     23.305      0.000     329.479     390.888\n",
       "att                         129.9090      7.292     17.815      0.000     115.422     144.396\n",
       "sprint                      110.3113      7.491     14.726      0.000      95.429     125.193\n",
       "tmobile                     114.1290      7.892     14.462      0.000      98.451     129.807\n",
       "verizon                     111.2577      7.149     15.563      0.000      97.055     125.460\n",
       "Fair                         73.3427     14.635      5.012      0.000      44.268     102.417\n",
       "Good                        101.5892      6.972     14.571      0.000      87.738     115.440\n",
       "Mint                        127.0744      7.689     16.526      0.000     111.799     142.350\n",
       "New (Resale)                163.6008     16.490      9.921      0.000     130.841     196.360\n",
       "Black                        75.8221     30.886      2.455      0.016      14.461     137.183\n",
       "Gold                         62.9486     12.319      5.110      0.000      38.474      87.423\n",
       "Gray                         71.1150     13.031      5.457      0.000      45.227      97.003\n",
       "Grey                         57.1652     11.439      4.997      0.000      34.440      79.891\n",
       "Red                          80.4864     27.262      2.952      0.004      26.326     134.647\n",
       "Rose Gold                    63.1371     11.798      5.352      0.000      39.699      86.575\n",
       "Silver                       54.9328     11.393      4.821      0.000      32.298      77.568\n",
       "Size                          0.3558      0.058      6.136      0.000       0.241       0.471\n",
       "==============================================================================\n",
       "Omnibus:                       17.051   Durbin-Watson:                   2.096\n",
       "Prob(Omnibus):                  0.000   Jarque-Bera (JB):               41.414\n",
       "Skew:                           0.512   Prob(JB):                     1.02e-09\n",
       "Kurtosis:                       5.812   Cond. No.                     1.45e+18\n",
       "==============================================================================\n",
       "\n",
       "Warnings:\n",
       "[1] Standard Errors assume that the covariance matrix of the errors is correctly specified.\n",
       "[2] The smallest eigenvalue is 7.35e-31. This might indicate that there are\n",
       "strong multicollinearity problems or that the design matrix is singular.\n",
       "\"\"\""
      ]
     },
     "execution_count": 16,
     "metadata": {},
     "output_type": "execute_result"
    }
   ],
   "source": [
    "import statsmodels.api as sm\n",
    "import statsmodels.formula.api as smf\n",
    "\n",
    "model = sm.OLS(y_train,X_train)\n",
    "# Fit your model to your training set\n",
    "fit = model.fit()\n",
    "\n",
    "# Print summary statistics of the model's performance\n",
    "fit.summary()"
   ]
  },
  {
   "cell_type": "code",
   "execution_count": 68,
   "metadata": {},
   "outputs": [
    {
     "data": {
      "image/png": "[encoded data removed]",
      "text/plain": [
       "<Figure size 864x576 with 1 Axes>"
      ]
     },
     "metadata": {
      "needs_background": "light"
     },
     "output_type": "display_data"
    }
   ],
   "source": [
    "fit.resid.plot(style='o', figsize=(12,8));"
   ]
  }
 ],
 "metadata": {
  "kernelspec": {
   "display_name": "Python 3",
   "language": "python",
   "name": "python3"
  },
  "language_info": {
   "codemirror_mode": {
    "name": "ipython",
    "version": 3
   },
   "file_extension": ".py",
   "mimetype": "text/x-python",
   "name": "python",
   "nbconvert_exporter": "python",
   "pygments_lexer": "ipython3",
   "version": "3.6.5"
  }
 },
 "nbformat": 4,
 "nbformat_minor": 2
}
