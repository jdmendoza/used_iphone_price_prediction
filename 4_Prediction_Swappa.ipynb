{
 "cells": [
  {
   "cell_type": "code",
   "execution_count": 1,
   "metadata": {},
   "outputs": [],
   "source": [
    "# Necessary imports\n",
    "import pandas as pd\n",
    "import numpy as np\n",
    "import pickle\n",
    "from sklearn.externals import joblib\n"
   ]
  },
  {
   "cell_type": "code",
   "execution_count": 2,
   "metadata": {},
   "outputs": [],
   "source": [
    "regr = joblib.load(\"swappa_lr_model.pkl\")"
   ]
  },
  {
   "cell_type": "code",
   "execution_count": 3,
   "metadata": {},
   "outputs": [],
   "source": [
    "mlb_model = pickle.load(open('mlb_model.sav', 'rb'))\n",
    "mlb_color = pickle.load(open('mlb_color.sav', 'rb'))\n",
    "mlb_carrier = pickle.load(open('mlb_carrier.sav', 'rb'))\n",
    "mlb_condition = pickle.load(open('mlb_condition.sav', 'rb'))"
   ]
  },
  {
   "cell_type": "code",
   "execution_count": 4,
   "metadata": {},
   "outputs": [],
   "source": [
    "def predict_price(model,color,carrier,condition,size,coeff,intercept):\n",
    "    test_vect = []\n",
    "    \n",
    "    test_vect.extend(mlb_model.transform([[model]])[0])\n",
    "    test_vect.extend(mlb_color.transform([[color]])[0])\n",
    "    test_vect.extend(mlb_carrier.transform([[carrier]])[0])\n",
    "    test_vect.extend(mlb_condition.transform([[condition]])[0]) \n",
    "    test_vect.extend([size])\n",
    "    print(test_vect)\n",
    "    \n",
    "    pred_price = np.dot(regr.coef_, np.transpose(test_vect))\n",
    "    \n",
    "    return '$'+ str(round(pred_price+intercept,2))"
   ]
  },
  {
   "cell_type": "code",
   "execution_count": 5,
   "metadata": {},
   "outputs": [
    {
     "name": "stdout",
     "output_type": "stream",
     "text": [
      "[1, 0, 0, 0, 0, 0, 0, 0, 0, 0, 1, 0, 0, 0, 0, 1, 0, 0, 0, 1, 0, 0, 0, 64]\n"
     ]
    },
    {
     "data": {
      "text/plain": [
       "'$262.3'"
      ]
     },
     "execution_count": 5,
     "metadata": {},
     "output_type": "execute_result"
    }
   ],
   "source": [
    "predict_price('apple-iphone-6s','Gray','att','Fair',64,regr.coef_,regr.intercept_)"
   ]
  },
  {
   "cell_type": "code",
   "execution_count": null,
   "metadata": {},
   "outputs": [],
   "source": []
  }
 ],
 "metadata": {
  "kernelspec": {
   "display_name": "Python 3",
   "language": "python",
   "name": "python3"
  },
  "language_info": {
   "codemirror_mode": {
    "name": "ipython",
    "version": 3
   },
   "file_extension": ".py",
   "mimetype": "text/x-python",
   "name": "python",
   "nbconvert_exporter": "python",
   "pygments_lexer": "ipython3",
   "version": "3.6.5"
  }
 },
 "nbformat": 4,
 "nbformat_minor": 2
}
